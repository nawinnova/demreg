{
 "cells": [
  {
   "cell_type": "code",
   "execution_count": 1,
   "id": "f8c61c9e-9919-40bf-bf33-1988f00ee08e",
   "metadata": {},
   "outputs": [],
   "source": [
    "import os.path\n",
    "\n",
    "import platform\n",
    "\n",
    "import pdb\n",
    "\n",
    "import datetime as dt\n",
    "\n",
    "import numpy as np\n",
    "\n",
    "import glob\n",
    "\n",
    "import matplotlib.pyplot as plt\n",
    "import matplotlib.colors as colors\n",
    "\n",
    "import astropy.units as u\n",
    "import astropy.time as time\n",
    "from astropy.coordinates import SkyCoord\n",
    "from astropy.wcs.utils import skycoord_to_pixel, pixel_to_skycoord\n",
    "\n",
    "import sunpy.map\n",
    "from sunpy.net import Fido, attrs as a\n",
    "from sunpy.map.maputils import all_pixel_indices_from_map,sample_at_coords\n",
    "from sunpy.physics.differential_rotation import solar_rotate_coordinate\n",
    "\n",
    "import scipy.io as io\n",
    "from scipy import ndimage\n",
    "from scipy.spatial.distance import cdist\n",
    "from scipy.stats import mode\n",
    "\n",
    "from dn2dem_pos import dn2dem_pos\n",
    "\n",
    "import warnings\n",
    "warnings.simplefilter('ignore')\n",
    "\n",
    "from aiapy.calibrate import register, update_pointing, estimate_error, normalize_exposure\n",
    "from aiapy.calibrate.prep import correct_degradation\n",
    "import aiapy.psf\n",
    "\n",
    "import asdf\n",
    "\n",
    "from skimage.segmentation import expand_labels\n",
    "\n",
    "from sklearn.cluster import KMeans"
   ]
  },
  {
   "cell_type": "code",
   "execution_count": 2,
   "id": "5513a1ba-30a9-4625-8124-835b1b1b60e5",
   "metadata": {},
   "outputs": [],
   "source": [
    "## Function with event information\n",
    "def event_info():\n",
    "    date = '2018/10/31'\n",
    "    start_time = '00:00:00'\n",
    "    end_time = '00:00:15' #'06:20:00'\n",
    "    # bottom_left =  #[0, 0]*u.pixel \n",
    "    # top_right = [2450, 600]*u.pixel #[4095, 4095]*u.pixel \n",
    "    \n",
    "    return date,start_time,end_time\n",
    "\n",
    "## Function to download data\n",
    "def get_data(date, start_time, end_time, passband, data_disk):\n",
    "    ## Identify and download the data\n",
    "    attrs_time = a.Time(date+' '+start_time, date+' '+end_time)\n",
    "    for pbd in passband:\n",
    "        wvlnth = a.Wavelength(int(pbd)*u.Angstrom, int(pbd)*u.Angstrom)\n",
    "        result = Fido.search(attrs_time, a.Instrument('AIA'), wvlnth)\n",
    "        files = Fido.fetch(result, path = data_disk+str(pbd).rjust(4, \"0\")+'/'+date, overwrite='False', progress='False')\n",
    "    return\n",
    " \n",
    "## Function to get the list of AIA filenames\n",
    "def get_filelist(data_disk, passband):\n",
    "    files = glob.glob(data_disk+str(passband).rjust(4, \"0\")+'/'+date+'/aia*.fits')\n",
    "    files.sort()\n",
    "    files_dt = [dt.datetime.strptime(file_i.split(f'{passband}a_')[1].split('z')[0], '%Y_%m_%dt%H_%M_%S_%f') for file_i in files]\n",
    "    return files, files_dt\n",
    "\n",
    "## Function to get closest file to defined file time.\n",
    "def closest(list, current_time):\n",
    "    ind = np.abs([time - current_time for time in list])\n",
    "    return ind.argmin(0)\n",
    "\n",
    "## Function to get AIA submap\n",
    "def get_submap(time_array,index,img,f_0171):\n",
    "    ind_0171 = closest(np.array(time_array[2][:]), time_array[index][img])\n",
    "    aiamap = sunpy.map.Map(f_0171[ind_0171])\n",
    "    bottom_left = SkyCoord(-650 * u.arcsec, -600 * u.arcsec, frame= aiamap.coordinate_frame)\n",
    "    bottom_left_pix = skycoord_to_pixel(bottom_left, aiamap.wcs, origin = 0)\n",
    "    w1 = 1333*u.pix\n",
    "    h1 = 2000*u.pix\n",
    "    submap = aiamap.submap(bottom_left_pix * u.pix, width=w1, height =h1)\n",
    "    return submap\n",
    "\n",
    "## Function to prep AIA images, deconvolve with PSF and produce submap\n",
    "def prep_images(time_array,index,img,f_0094,f_0131,f_0171,f_0193,f_0211,f_0335):\n",
    "    ind_0094 = closest(np.array(time_array[0][:]), time_array[index][img])\n",
    "    ind_0131 = closest(np.array(time_array[1][:]), time_array[index][img])\n",
    "    ind_0171 = closest(np.array(time_array[2][:]), time_array[index][img])\n",
    "    ind_0193 = closest(np.array(time_array[3][:]), time_array[index][img])\n",
    "    ind_0211 = closest(np.array(time_array[4][:]), time_array[index][img])\n",
    "    ind_0335 = closest(np.array(time_array[5][:]), time_array[index][img])\n",
    "\n",
    "    farray = [f_0094[ind_0094], f_0131[ind_0131], f_0171[ind_0171], f_0193[ind_0193], f_0211[ind_0211], f_0335[ind_0335]]\n",
    "    maps = sunpy.map.Map(farray)\n",
    "    bottom_left = SkyCoord(-650 * u.arcsec, -600 * u.arcsec, frame= maps[0].coordinate_frame)\n",
    "    bottom_left_pix = skycoord_to_pixel(bottom_left, maps[0].wcs, origin = 0)\n",
    "    w1 = 1333*u.pix\n",
    "    h1 = 2000*u.pix\n",
    "    sub = maps[0].submap(bottom_left_pix * u.pix, width=w1, height =h1)\n",
    "    nx,ny = sub.data.shape\n",
    "    nf=len(maps)\n",
    "\n",
    "    print('Prepping images & deconvolving with PSF')\n",
    "    map_arr = []\n",
    "    error_array = np.zeros([nx, ny, nf])\n",
    "\n",
    "    for m in range(0, len(maps)):\n",
    "        psf = aiapy.psf.psf(maps[m].wavelength)\n",
    "        aia_map_deconvolved = aiapy.psf.deconvolve(maps[m], psf=psf)\n",
    "        aia_map_updated_pointing = update_pointing(aia_map_deconvolved)\n",
    "        aia_map_registered = register(aia_map_updated_pointing)\n",
    "        aia_map_corrected = correct_degradation(aia_map_registered)\n",
    "        aia_map_norm = normalize_exposure(aia_map_corrected)\n",
    "        bottom_left = SkyCoord(-650 * u.arcsec, -600 * u.arcsec, frame= maps[m].coordinate_frame)\n",
    "        bottom_left_pix = skycoord_to_pixel(bottom_left, maps[m].wcs, origin = 0)\n",
    "        submap = aia_map_norm.submap(bottom_left_pix * u.pix, width=w1, height =h1)\n",
    "        map_arr.append(submap)\n",
    "        num_pix=submap.data.size\n",
    "        error_array[:,:,m] = estimate_error(submap.data*(u.ct/u.pix),submap.wavelength,num_pix)\n",
    "\n",
    "    map_array=sunpy.map.Map(map_arr[0],map_arr[1],map_arr[2],map_arr[3],\n",
    "                            map_arr[4],map_arr[5],sequence=True,sortby=None) \n",
    "    print('Images prepped & region of interest selected')\n",
    "\n",
    "    return map_array, error_array\n",
    "    \n",
    "## Function to calculate DEM\n",
    "def calculate_dem(map_array, err_array):\n",
    "    nx,ny = map_array[0].data.shape\n",
    "    nf=len(map_array)\n",
    "    image_array = np.zeros((nx,ny,nf))\n",
    "    for img in range(0,nf):\n",
    "        image_array[:,:,img] = map_array[img].data\n",
    "\n",
    "    trin=io.readsav('/Users/nawinngampoopun/Desktop/Script/demreg/python/aia_tresp_en.dat')\n",
    "    tresp_logt=np.array(trin['logt'])\n",
    "    nt=len(tresp_logt)\n",
    "    nf=len(trin['tr'][:])\n",
    "    trmatrix=np.zeros((nt,nf))\n",
    "    for i in range(0,nf):\n",
    "        trmatrix[:,i]=trin['tr'][i]    \n",
    "    \n",
    "    t_space=0.1\n",
    "    #probably should change to logT = 5.3-6.5 (Heinemann2021)\n",
    "    t_min=5.6\n",
    "    t_max=7.4\n",
    "    logtemps=np.linspace(t_min,t_max,num=int((t_max-t_min)/t_space)+1)\n",
    "    temps=10**logtemps\n",
    "    mlogt=([np.mean([(np.log10(temps[i])),np.log10((temps[i+1]))]) for i in np.arange(0,len(temps)-1)])\n",
    "    dem,edem,elogt,chisq,dn_reg=dn2dem_pos(image_array,err_array,trmatrix,tresp_logt,temps,max_iter=15)\n",
    "    dem = dem.clip(min=0)\n",
    "    return dem,edem,elogt,chisq,dn_reg,mlogt,logtemps\n",
    "\n",
    "## Function to plot the DEM curve for the centre pixel\n",
    "def plot_dem(dem,edem,mlogt,elogt,img_tit):\n",
    "    sz = dem.shape\n",
    "    pixel_loc = [int(sz[1]/2)-100, int(sz[0]/2)-100]\n",
    "    fig = plt.figure(figsize=(8, 4.5))\n",
    "    dem_pix = dem[pixel_loc[0],pixel_loc[1],]\n",
    "    dem_pix_err = edem[pixel_loc[0],pixel_loc[1],]\n",
    "    elogt_pix = elogt[pixel_loc[0],pixel_loc[1],]\n",
    "    plt.errorbar(mlogt,dem_pix,xerr=elogt_pix,yerr=dem_pix_err, fmt='or',ecolor='lightcoral',elinewidth=3,capsize=0,label='Def Self LWght')\n",
    "    plt.xlabel('$\\mathrm{\\log_{10}T\\;[K]}$')\n",
    "    plt.ylabel('$\\mathrm{DEM\\;[cm^{-5}\\;K^{-1}]}$')\n",
    "    plt.ylim([1e18,4e20])\n",
    "    plt.xlim([5.2,6.6])\n",
    "    plt.rcParams.update({'font.size': 16})\n",
    "    plt.yscale('log')\n",
    "    plt.legend()\n",
    "    plt.savefig(img_tit,bbox_inches='tight')\n",
    "    plt.close(fig)\n",
    "    \n",
    "    return\n",
    "\n",
    "## Function to plot the DEM images\n",
    "def plot_dem_images(submap,dem,logtemps,img_arr_tit, CHB, CHB_in, CHB_out):\n",
    "    sz = dem.shape\n",
    "    pixel_loc = [int(sz[1]/2)-100, int(sz[0]/2)-100]\n",
    "    nt=len(dem[0,0,:])\n",
    "    nt_new=int(nt/2)\n",
    "    nc, nr = 3, 2\n",
    "    plt.rcParams.update({'font.size': 12,'font.family':\"sans-serif\",\\\n",
    "                         'font.sans-serif':\"Arial\",'mathtext.default':\"regular\"})\n",
    "    fig, axes = plt.subplots(nrows=nr, ncols=nc, figsize=(12,6),sharex=True,sharey=True)\n",
    "    fig.suptitle('Image time = '+time.Time.strftime(submap.date, \"%Y-%m-%dT%H:%M:%S\"))\n",
    "    fig.supxlabel('Pixels')\n",
    "    fig.supylabel('Pixels')\n",
    "    cmap = plt.cm.get_cmap('cubehelix_r')\n",
    "    \n",
    "    for i, axi in enumerate(axes.flat):\n",
    "        new_dem= (dem[:,:,i*4]+dem[:,:,i*4+3])/2.\n",
    "        im = axi.imshow(new_dem,vmin=1e19,vmax=1e21,origin='lower',cmap=cmap, aspect='equal')\n",
    "        axi.plot(pixel_loc[0],pixel_loc[1],'x',markersize='10')\n",
    "        axi.contour(CHB, colors = 'black',linewidths=0.5)\n",
    "        axi.contour(CHB_in,colors = 'red',linewidths =0.5)\n",
    "        axi.contour(CHB_out, colors = 'blue',linewidths =0.5)\n",
    "        axi.set_title('{0:.2f} - {1:.2f}'.format(logtemps[i*4],logtemps[i*4+3+1]))\n",
    "\n",
    "    plt.tight_layout()\n",
    "    plt.colorbar(im, ax=axes.ravel().tolist(),label='$\\mathrm{DEM\\;[cm^{-5}\\;K^{-1}]}$',fraction=0.03, pad=0.02)\n",
    "    plt.savefig(img_arr_tit, bbox_inches='tight')\n",
    "    plt.close(fig)\n",
    "    return"
   ]
  },
  {
   "cell_type": "code",
   "execution_count": 3,
   "id": "8ed557d5-0f72-4fc0-be10-3895f9309cae",
   "metadata": {},
   "outputs": [],
   "source": [
    "#Calculate and plot EM maps for 9 temperature bins\n",
    "def plot_em_images_calc(submap,dem,logtemps, img_EM_tit, CHB, CHB_in, CHB_out):\n",
    "    EM_total = np.sum(dem,axis=2)\n",
    "    EM_bin = np.zeros((dem.shape[0], dem.shape[1], dem.shape[2]//4))\n",
    "    for i in range (EM_bin.shape[2]):\n",
    "        EM_bin[:,:,i] = dem[:,:,i*4] + dem[:,:,i*4+3]\n",
    "        \n",
    "    nc, nr = 3, 2\n",
    "    plt.rcParams.update({'font.size': 12,'font.family':\"sans-serif\",\\\n",
    "                         'font.sans-serif':\"Arial\",'mathtext.default':\"regular\"})\n",
    "    fig, axes = plt.subplots(nrows=nr, ncols=nc, figsize=(12,6),sharex=True,sharey=True)\n",
    "    fig.suptitle('Image time = '+time.Time.strftime(submap.date, \"%Y-%m-%dT%H:%M:%S\"))\n",
    "    fig.supxlabel('Pixels')\n",
    "    fig.supylabel('Pixels')\n",
    "    cmap = plt.cm.get_cmap('cubehelix_r')\n",
    "        \n",
    "    for i, axi in enumerate(axes.flat):\n",
    "        im = axi.imshow(EM_bin[:,:,i],vmin=1e19,vmax=1e21,origin='lower',cmap=cmap, aspect='equal')\n",
    "        axi.contour(CHB, colors = 'black',linewidths=0.5)\n",
    "        axi.contour(CHB_in,colors = 'red',linewidths =0.5)\n",
    "        axi.contour(CHB_out, colors = 'blue',linewidths =0.5)\n",
    "        axi.set_title('{0:.2f} - {1:.2f}'.format(logtemps[i*4],logtemps[i*4+3+1]))\n",
    "    \n",
    "    plt.tight_layout()\n",
    "    plt.colorbar(im, ax=axes.ravel().tolist(),label='$\\mathrm{EM\\;[cm^{-5}]}$',fraction=0.03, pad=0.02)\n",
    "    plt.savefig(img_EM_tit, bbox_inches='tight')\n",
    "    plt.close(fig)\n",
    "    \n",
    "    return EM_total"
   ]
  },
  {
   "cell_type": "code",
   "execution_count": 4,
   "id": "58d7c43a-8757-456a-935e-c69637d4aa85",
   "metadata": {},
   "outputs": [],
   "source": [
    "#plot EM weighted temperature and density map based by Saqri(2020)\n",
    "def plot_temp_images(submap,dem, EM_total,logtemps, img_temp_tit, CHB, CHB_in, CHB_out):\n",
    "    temps = 10**(logtemps)\n",
    "    upfrac = np.zeros((EM_total.shape))\n",
    "    for j in range (dem.shape[2]):\n",
    "        upfrac_plus = dem[:,:,j]*temps[j]\n",
    "        upfrac = upfrac+upfrac_plus\n",
    "\n",
    "    T_weighted = upfrac/EM_total\n",
    "    T_min = np.nanmin(T_weighted)\n",
    "    T_weighted_plot = np.nan_to_num(T_weighted,nan=0)\n",
    "    \n",
    "    plt.rcParams.update({'font.size': 12,'font.family':\"sans-serif\",\\\n",
    "                         'font.sans-serif':\"Arial\",'mathtext.default':\"regular\"})\n",
    "    cmap = plt.cm.get_cmap('afmhot')\n",
    "    cmap.set_bad(color='green')\n",
    "    \n",
    "    fig = plt.figure()\n",
    "    ax = fig.add_subplot(1,1,1, projection=submap)\n",
    "    ax.set_title('Image time = '+time.Time.strftime(submap.date, \"%Y-%m-%dT%H:%M:%S\"))\n",
    "    ax.set_xlabel('arcsec')\n",
    "    ax.set_ylabel('arcsec')\n",
    "    im = ax.imshow(T_weighted_plot,vmin = T_min, vmax = 3e6,origin='lower',cmap=cmap,aspect='equal')\n",
    "    ax.contour(CHB, colors = 'black',linewidths=0.5)\n",
    "    ax.contour(CHB_in,colors = 'red',linewidths =0.5)\n",
    "    ax.contour(CHB_out, colors = 'blue',linewidths =0.5)\n",
    "    plt.tight_layout()\n",
    "    plt.colorbar(im,label='$\\mathrm{T\\;[K]}$',fraction=0.03, pad=0.02)\n",
    "    plt.savefig(img_temp_tit, bbox_inches='tight')\n",
    "    plt.close(fig)\n",
    "    return T_weighted_plot\n",
    "\n",
    "def plot_dens_images(submap, EM_total, img_dens_tit, CHB, CHB_in, CHB_out):\n",
    "    #Scale Height = 42 Mm (Saqri 2020)\n",
    "    h_saq = 42*(10**8) #cm\n",
    "    #Calc mean density\n",
    "    density_mean_saq = np.sqrt(EM_total/h_saq)\n",
    "    dens_min = np.min(density_mean_saq[np.nonzero(density_mean_saq)])\n",
    "    dens_max = np.max(density_mean_saq)\n",
    "    \n",
    "    plt.rcParams.update({'font.size': 12,'font.family':\"sans-serif\",\\\n",
    "                         'font.sans-serif':\"Arial\",'mathtext.default':\"regular\"})\n",
    "    cmap = plt.cm.get_cmap('bone')\n",
    "    cmap.set_bad(color='green')\n",
    "    \n",
    "    fig = plt.figure()\n",
    "    ax = fig.add_subplot(1,1,1, projection=submap)\n",
    "    ax.set_title('Image time = '+time.Time.strftime(submap.date, \"%Y-%m-%dT%H:%M:%S\"))\n",
    "    ax.set_xlabel('arcsec')\n",
    "    ax.set_ylabel('arcsec')\n",
    "    im = ax.imshow(density_mean_saq,vmin = dens_min, vmax = 1e6,origin='lower',cmap=cmap,aspect='equal')\n",
    "    ax.contour(CHB, colors = 'black',linewidths=0.5)\n",
    "    ax.contour(CHB_in,colors = 'red',linewidths =0.5)\n",
    "    ax.contour(CHB_out, colors = 'blue',linewidths =0.5)\n",
    "    plt.tight_layout()\n",
    "    plt.colorbar(im,label=r'$\\bar{n} \\mathrm{[cm^{-3}]}$',fraction=0.03, pad=0.02)\n",
    "    plt.savefig(img_dens_tit, bbox_inches='tight')\n",
    "    plt.close(fig)\n",
    "    return density_mean_saq"
   ]
  },
  {
   "cell_type": "code",
   "execution_count": 5,
   "id": "3d95af84-84f8-415c-bb43-516c21966bff",
   "metadata": {
    "jupyter": {
     "source_hidden": true
    },
    "tags": []
   },
   "outputs": [],
   "source": [
    "#Define Essential Component Function\n",
    "\n",
    "#Define Coronal Hole Boundary\n",
    "def define_CHB (aiamap, subaiamap, subaiamap_mask): \n",
    "    #Mask the spotted that brighter than 50% of median intensity of solar disk\n",
    "    #Base on CATCH(Heinemann2019): 46.2 \\pm 5.5 of Median\n",
    "    mask = subaiamap.data > 0.35 * np.median(aiamap.data)\n",
    "    subaiamap_mask.mask = mask\n",
    "    #Gaussian Filtering to Connect Smaller Region\n",
    "    data1 = ndimage.gaussian_filter(subaiamap.data * ~mask, 5) #gaussian filtering\n",
    "    #labels the area define in CH\n",
    "    subaiamap_new = sunpy.map.Map(data1, subaiamap.meta)\n",
    "    labels, n = ndimage.label(subaiamap_new.data)\n",
    "    #Select only biggest CH\n",
    "    vallabel = mode(labels[np.nonzero(labels)])\n",
    "    labels_true = np.where(labels == vallabel[0], labels, 0)\n",
    "    #Fill Bright spots in CH (We neglected them)\n",
    "    labels_true = ndimage.binary_fill_holes(labels_true).astype(int)\n",
    "    return subaiamap_new, labels_true\n",
    "\n",
    "#expand CHB boundary\n",
    "#from skimage.segmentation import expand_labels\n",
    "\n",
    "#shrink CHB boundary\n",
    "def erode_labels(segmentation, erosion_iterations):\n",
    "    # create empty list where the eroded masks can be saved to\n",
    "    list_of_eroded_masks = list()\n",
    "\n",
    "    # binarize each of the labels separately and save the output to the created list of numpy arrays\n",
    "    def erode_mask(segmentation_labels, label_id, erosion_iterations):\n",
    "        \n",
    "        only_current_label_id = np.where(segmentation_labels == label_id, 1, 0)\n",
    "        eroded = ndimage.binary_erosion(only_current_label_id, iterations = erosion_iterations)\n",
    "        relabeled_eroded = np.where(eroded == 1, i, 0)\n",
    "        return(relabeled_eroded)\n",
    "\n",
    "    for i in range(len(np.unique(segmentation))):\n",
    "        list_of_eroded_masks.append(erode_mask(segmentation, i, erosion_iterations))\n",
    "\n",
    "    # convert list of numpy arrays to stacked numpy array\n",
    "    final_array = np.stack(list_of_eroded_masks)\n",
    "\n",
    "    # max_IP to reduce the stack of arrays, each containing one labelled region, to a single 2D np array. \n",
    "    final_array_labelled = np.max(final_array, axis = 0)\n",
    "    return(final_array_labelled)\n",
    "\n",
    "#Define CHB annulus\n",
    "def define_CHB_annulus(labels, pixel):\n",
    "    labels_out = expand_labels(labels,pixel)\n",
    "    labels_in = erode_labels(labels, 40)\n",
    "    return labels_out, labels_in\n",
    "\n",
    "#Mask Other Area and Select only CHB Annulus\n",
    "def mask_annulus(submap, labels1, labels2):\n",
    "    #pixel_coord = all_coordinates_from_map(submap)\n",
    "    annulus_label = labels1 - labels2\n",
    "    submap_annulus_data = np.where(annulus_label > 0, submap.data, np.NaN)\n",
    "    #CH_annulus_coord = pixel_coord[annulus_label > 0]\n",
    "    CH_annulus_pixel = np.nonzero(annulus_label)\n",
    "    CH_annulus_pixel_array = np.column_stack((CH_annulus_pixel[1],CH_annulus_pixel[0]))\n",
    "    annulusmap = sunpy.map.Map(submap_annulus_data, submap.meta)\n",
    "    return annulusmap, CH_annulus_pixel_array\n",
    "\n",
    "#Kmean clustering for ref image\n",
    "def kmeanscluster (pixelarray, num_segment):\n",
    "    rng = np.random.RandomState(0)\n",
    "    kmeans = KMeans(n_clusters=num_segment, tol = 1e-5, random_state = rng).fit(pixelarray)\n",
    "    centroids = kmeans.cluster_centers_\n",
    "    labels_section = kmeans.labels_\n",
    "    labelsnum = np.arange(0,num_segment)\n",
    "    centroids = np.column_stack((centroids[:,0],centroids[:,1],labelsnum))\n",
    "    print(kmeans.n_iter_)\n",
    "    return centroids, labels_section\n",
    "\n",
    "#Kmeans clustering with initial centroid\n",
    "def kmeanscluster_initcen(pixelarray, num_segment, centroidref):\n",
    "    rng = np.random.RandomState(0)\n",
    "    kmeans = KMeans(n_clusters=num_segment, tol = 1e-5, random_state = rng, init=centroidref[:,:2]).fit(pixelarray)\n",
    "    centroids = kmeans.cluster_centers_\n",
    "    labels_section = kmeans.labels_\n",
    "    labelsnum = np.arange(0,num_segment)\n",
    "    centroids = np.column_stack((centroids[:,0],centroids[:,1],labelsnum))\n",
    "    print(kmeans.n_iter_)\n",
    "    return centroids, labels_section\n",
    "\n",
    "#Find index of elements that closest to contour line\n",
    "def closest_node_index(node, nodes):\n",
    "    return cdist([node], nodes).argmin()\n",
    "\n",
    "#Sort Centroid for first image (from min, from max, from reference point)\n",
    "def sort_centroid_frommax(centroid_array_input):\n",
    "    centroid_array = np.copy(centroid_array_input)\n",
    "    centroid_sort = np.zeros(np.shape(centroid_array))\n",
    "    ref = centroid_array[np.nonzero(centroid_array[:,1] == np.max(centroid_array[:,1]))]\n",
    "    centroid_sort[0] = ref\n",
    "    for j in range (len(centroid_array)-1):\n",
    "        cut_x = np.nonzero(centroid_array[:,0] == ref[0,0])\n",
    "        cut_y = np.nonzero(centroid_array[:,1] == ref[0,1])\n",
    "        #print(cut_x, cut_y)\n",
    "        centroid_array = np.delete(centroid_array,cut_x,0)\n",
    "        #print(centroid_array.shape)\n",
    "        ref_temp = centroid_array[closest_node_index((ref[0,:2]),centroid_array[:,0:2])]\n",
    "        ref = ref_temp.reshape(1,3)\n",
    "        centroid_sort[j+1] = ref       \n",
    "    return centroid_sort\n",
    "\n",
    "def sort_centroid_frommin(centroid_array_input):\n",
    "    centroid_array = np.copy(centroid_array_input)\n",
    "    centroid_sort = np.zeros(np.shape(centroid_array))\n",
    "    ref = centroid_array[np.nonzero(centroid_array[:,1] == np.min(centroid_array[:,1]))]\n",
    "    centroid_sort[0] = ref\n",
    "    for j in range (len(centroid_array)-1):\n",
    "        cut_x = np.nonzero(centroid_array[:,0] == ref[0,0])\n",
    "        cut_y = np.nonzero(centroid_array[:,1] == ref[0,1])\n",
    "        #print(cut_x, cut_y)\n",
    "        centroid_array = np.delete(centroid_array,cut_x,0)\n",
    "        #print(centroid_array.shape)\n",
    "        ref_temp = centroid_array[closest_node_index((ref[0,:2]),centroid_array[:,0:2])]\n",
    "        ref = ref_temp.reshape(1,3)\n",
    "        centroid_sort[j+1] = ref      \n",
    "    return centroid_sort\n",
    "\n",
    "def sort_centroid_fromref(centroid_array_input, refinput):\n",
    "    centroid_array = np.copy(centroid_array_input)\n",
    "    centroid_sort = np.zeros(np.shape(centroid_array))\n",
    "    ref = refinput.reshape(1,3)\n",
    "    centroid_sort[0] = ref\n",
    "    for j in range (len(centroid_array)-1):\n",
    "        cut_x = np.nonzero(centroid_array[:,0] == ref[0,0])\n",
    "        cut_y = np.nonzero(centroid_array[:,1] == ref[0,1])\n",
    "        #print(cut_x, cut_y)\n",
    "        centroid_array = np.delete(centroid_array,cut_x,0)\n",
    "        #print(centroid_array.shape)\n",
    "        ref_temp = centroid_array[closest_node_index((ref[0,:2]),centroid_array[:,0:2])]\n",
    "        ref = ref_temp.reshape(1,3)\n",
    "        centroid_sort[j+1] = ref      \n",
    "    return centroid_sort\n",
    "\n",
    "#Sort Cluster label with centroid\n",
    "def sortlabel(labels_section, sort_centroids, num_segment):\n",
    "    labels_section_sort = np.copy(labels_section)\n",
    "    for k in range (num_segment):\n",
    "        labels_section_sort[np.nonzero(labels_section == k)] = np.nonzero(sort_centroids[:,2] == k)\n",
    "    return labels_section_sort\n",
    "\n",
    "#Kmeans Clustering overall process for reference image\n",
    "def segment_annulus_ultimate(CH_annulus_pixel_array,num_totarea):\n",
    "    num_area = 2\n",
    "    centroids, labels_section = kmeanscluster(CH_annulus_pixel_array, num_area)\n",
    "    centroids_sorttest = sort_centroid_frommin(centroids)\n",
    "    labels_section_sorted = sortlabel(labels_section,centroids_sorttest,num_area)\n",
    "    CH_annulus_pixel_array_sub1x = CH_annulus_pixel_array[:,0][labels_section_sorted == 0]\n",
    "    CH_annulus_pixel_array_sub1y = CH_annulus_pixel_array[:,1][labels_section_sorted == 0]\n",
    "    CH_annulus_pixel_array_sub1 = np.column_stack((CH_annulus_pixel_array_sub1x,CH_annulus_pixel_array_sub1y))\n",
    "    CH_annulus_pixel_array_sub2x = CH_annulus_pixel_array[:,0][labels_section_sorted == 1]\n",
    "    CH_annulus_pixel_array_sub2y = CH_annulus_pixel_array[:,1][labels_section_sorted == 1]\n",
    "    CH_annulus_pixel_array_sub2 = np.column_stack((CH_annulus_pixel_array_sub2x,CH_annulus_pixel_array_sub2y))\n",
    "    num_subarea = num_totarea//2\n",
    "    centroids_sub1, labels_section_sub1 = kmeanscluster(CH_annulus_pixel_array_sub1, num_subarea)\n",
    "    centroids_sub1_sorttest = sort_centroid_frommax(centroids_sub1)\n",
    "    labels_section_sub1_sorted = sortlabel(labels_section_sub1,centroids_sub1_sorttest,num_subarea)\n",
    "    centroids_sub2, labels_section_sub2 = kmeanscluster(CH_annulus_pixel_array_sub2, num_subarea)\n",
    "    ref2 = centroids_sub2[closest_node_index(centroids_sub1_sorttest[-1],centroids_sub2)]\n",
    "    centroids_sub2_sorttest = sort_centroid_fromref(centroids_sub2, ref2)\n",
    "    #centroids_sub2_sorttest = sort_centroid_frommin(centroids_sub2)\n",
    "    labels_section_sub2_sorted = sortlabel(labels_section_sub2,centroids_sub2_sorttest,num_subarea)\n",
    "    labels_section_sub2_sorted = labels_section_sub2_sorted + np.max(labels_section_sub1_sorted)\n",
    "    centroids_sortedtrue = np.concatenate((centroids_sub1_sorttest, centroids_sub2_sorttest))\n",
    "    labels_section_sortedtrue = np.concatenate((labels_section_sub1_sorted,labels_section_sub2_sorted))\n",
    "    CH_annulus_pixel_array_sorted = np.concatenate((CH_annulus_pixel_array_sub1,CH_annulus_pixel_array_sub2))\n",
    "    \n",
    "    return CH_annulus_pixel_array_sorted, centroids_sortedtrue, labels_section_sortedtrue "
   ]
  },
  {
   "cell_type": "code",
   "execution_count": 6,
   "id": "5024c4e6-0184-4ea6-ba1f-f3b29bb07b0a",
   "metadata": {
    "tags": []
   },
   "outputs": [],
   "source": [
    "#Function for running all process\n",
    "#Ref image\n",
    "def CHB_process_firstimage(aiamap):\n",
    "    #Load AIAMAP and def mask\n",
    "    aia1 = sunpy.map.Map(aiamap)\n",
    "    aia1_mask = sunpy.map.Map(aiamap)\n",
    "    #Define Submap for First Image, will be reference to every image\n",
    "    bottom_left = SkyCoord(-650 * u.arcsec, -600 * u.arcsec, frame= aia1.coordinate_frame)\n",
    "    bottom_left_pix = skycoord_to_pixel(bottom_left, aia1.wcs, origin=0)\n",
    "    w1 = 1333*u.pix\n",
    "    h1 = 2000*u.pix\n",
    "    #subaia1 = aia1.submap(bottom_left, width = w1, height = h1)\n",
    "    subaia1 = aia1.submap(bottom_left_pix * u.pix, width = w1, height = h1)\n",
    "    #subaia1_mask = aia1_mask.submap(bottom_left, width = w1, height = h1)\n",
    "    subaia1_mask = aia1_mask.submap(bottom_left_pix * u.pix, width = w1, height = h1)\n",
    "    #Define CHB and Annulus\n",
    "    subaia1_new, labels1 = define_CHB(aia1, subaia1, subaia1_mask) #CHB\n",
    "    labels1_out, labels1_in = define_CHB_annulus(labels1, 40) #Annulus\n",
    "    CH1_annulus, CH1_annulus_pixel = mask_annulus(subaia1, labels1_out, labels1_in) #CHB map and pixel\n",
    "    CH1_annulus_inner, CH1_annulus_inner_pixel = mask_annulus(subaia1, labels1, labels1_in) #CHB inner map and pixel\n",
    "    CH1_annulus_outer, CH1_annulus_outer_pixel = mask_annulus(subaia1, labels1_out, labels1)#CHB outer map and pixel\n",
    "    #Segmenting Annulus Subarea and Sorted\n",
    "    CH_outer_sort, centroid2, labels2 = segment_annulus_ultimate(CH1_annulus_outer_pixel, 60)\n",
    "    CH_inner_sort, centroid3, labels3 = segment_annulus_ultimate(CH1_annulus_inner_pixel, 60)\n",
    "    \n",
    "    return bottom_left, centroid2, centroid3, labels1, labels1_out, labels1_in, labels2, labels3, CH1_annulus_outer, CH1_annulus_inner, CH_outer_sort, CH_inner_sort\n",
    "\n",
    "#Otherimage\n",
    "def CHB_process_otherimage(aiamap,bottom_left_ref, centroidouter_ref, centroidinner_ref):\n",
    "    aia1 = sunpy.map.Map(aiamap)\n",
    "    aia1_mask = sunpy.map.Map(aiamap)\n",
    "    #Shift Bottomleft Coor to new observer\n",
    "    bottom_left = solar_rotate_coordinate(bottom_left_ref, observer = aia1.observer_coordinate)\n",
    "    #bottom_left_pix = skycoord_to_pixel(bottom_left, aia1.wcs)\n",
    "    w1 = 800*u.arcsec\n",
    "    h1 = 1200*u.arcsec\n",
    "    subaia1 = aia1.submap(bottom_left, width = w1, height = h1)\n",
    "    subaia1_mask = aia1_mask.submap(bottom_left, width = w1, height = h1)\n",
    "    #Define CHB and Annulus\n",
    "    subaia1_new, labels1 = define_CHB(aia1, subaia1, subaia1_mask) #CHB\n",
    "    labels1_out, labels1_in = define_CHB_annulus(labels1, 40) #Annulus\n",
    "    CH1_annulus, CH1_annulus_pixel = mask_annulus(subaia1, labels1_out, labels1_in) #CHB map and pixel\n",
    "    CH1_annulus_inner, CH1_annulus_inner_pixel = mask_annulus(subaia1, labels1, labels1_in) #CHB inner map and pixel\n",
    "    CH1_annulus_outer, CH1_annulus_outer_pixel = mask_annulus(subaia1, labels1_out, labels1)#CHB outer map and pixel\n",
    "    #Segmenting Annulus Subarea and Sorted\n",
    "    centroid2, labels2 = kmeanscluster_initcen(CH1_annulus_outer_pixel, 60, centroidouter_ref)\n",
    "    centroid3, labels3 = kmeanscluster_initcen(CH1_annulus_inner_pixel, 60, centroidinner_ref)\n",
    "    \n",
    "    \n",
    "    return bottom_left, centroid2, centroid3, labels1, labels1_out, labels1_in, labels2, labels3, CH1_annulus_outer, CH1_annulus_inner, CH1_annulus_outer_pixel, CH1_annulus_inner_pixel"
   ]
  },
  {
   "cell_type": "code",
   "execution_count": 7,
   "id": "34108d71-6bf5-4764-a21b-414490bd44fb",
   "metadata": {},
   "outputs": [],
   "source": [
    "def pixeltransform_AIA(xpixelaia, ypixelaia, subaiamapwcs, subaiamap_new):\n",
    "    aia_subarea_sky = pixel_to_skycoord(xpixelaia,ypixelaia,subaiamapwcs,origin=0)\n",
    "    aianew_subarea_sky = solar_rotate_coordinate(aia_subarea_sky, observer=subaiamap_new.observer_coordinate)\n",
    "    aianew_subarea_pix= skycoord_to_pixel(aianew_subarea_sky, wcs=subaiamap_new.wcs,origin=0)\n",
    "    aianew_subarea_pix_x = (np.rint(aianew_subarea_pix[0])).astype(int)\n",
    "    aianew_subarea_pix_y = (np.rint(aianew_subarea_pix[1])).astype(int)\n",
    "    labelsmock_subarea_array = np.zeros(subaiamap_new.data.shape, dtype=int)\n",
    "    labelsmock_subarea_array[aianew_subarea_pix_y,aianew_subarea_pix_x] = 1\n",
    "    # #IMPORTANT!!!!!! DoubleBInaryCLosing\n",
    "    # #Rowwise\n",
    "    # for i in range (len(labelsmock_subarea_array)):\n",
    "    #     labelsmock_subarea_array[i] = ndimage.binary_closing(labelsmock_subarea_array[i]).astype(int)\n",
    "    # #Overall\n",
    "    labelsmock_subarea_array = ndimage.binary_closing(labelsmock_subarea_array).astype(int)\n",
    "    labelsmock_subarea, n2 = ndimage.label(labelsmock_subarea_array)\n",
    "    if n2 != 1: \n",
    "        print(\"ERROR with binary closing with n ={} at {}\".format(n2, subaiamap_new.date))\n",
    "    \n",
    "    return labelsmock_subarea\n",
    "\n",
    "def Selectprop_DEM(proparray, labels):\n",
    "    #submap_data = subaiamap.data   \n",
    "    prop_selectarea_data = proparray[labels != 0]\n",
    "    meanprop_subarea = np.mean(prop_selectarea_data)\n",
    "\n",
    "    return meanprop_subarea\n"
   ]
  },
  {
   "cell_type": "code",
   "execution_count": 8,
   "id": "f01c418a-e012-43ee-8be8-e7442e14da9d",
   "metadata": {
    "tags": []
   },
   "outputs": [],
   "source": [
    "date,start_time,end_time = event_info()"
   ]
  },
  {
   "cell_type": "code",
   "execution_count": 9,
   "id": "e0605dd9-d408-44e1-b959-39723dcbf090",
   "metadata": {},
   "outputs": [],
   "source": [
    "data_disk = '/Users/nawinngampoopun/Desktop/SampleDEM/data/'\n",
    "output_dir = '/Users/nawinngampoopun/Desktop/SampleDEM/results/'\n",
    "\n",
    "os.makedirs(data_disk, exist_ok='True')\n",
    "os.makedirs(output_dir, exist_ok='True')\n",
    "passband = [94, 131, 171, 193, 211, 335]"
   ]
  },
  {
   "cell_type": "code",
   "execution_count": 10,
   "id": "c7425778-d85e-4991-b76d-ff301a119c7e",
   "metadata": {},
   "outputs": [],
   "source": [
    "f_0094, time_0094 = get_filelist(data_disk, 94)\n",
    "f_0131, time_0131 = get_filelist(data_disk, 131)\n",
    "f_0171, time_0171 = get_filelist(data_disk, 171)\n",
    "f_0193, time_0193 = get_filelist(data_disk, 193)\n",
    "f_0211, time_0211 = get_filelist(data_disk, 211)\n",
    "f_0335, time_0335 = get_filelist(data_disk, 335)"
   ]
  },
  {
   "cell_type": "code",
   "execution_count": 11,
   "id": "e1f666b4-3ebd-45f4-b799-622f2b605b61",
   "metadata": {},
   "outputs": [],
   "source": [
    "flength = [len(f_0094), len(f_0131), len(f_0171), len(f_0193), len(f_0211), len(f_0335)]\n",
    "flist = [f_0094, f_0131, f_0171, f_0193, f_0211, f_0335]\n",
    "time_array = [time_0094, time_0131, time_0171, time_0193, time_0211, time_0335]\n",
    "index = np.argmin(flength)"
   ]
  },
  {
   "cell_type": "code",
   "execution_count": 11,
   "id": "a5fcac06-4470-4402-ba76-144c162ac250",
   "metadata": {},
   "outputs": [],
   "source": [
    "aia193 = sunpy.map.Map('/Users/nawinngampoopun/Desktop/Testdata/aia193_L16_0.fits')\n",
    "aia193_corr = correct_degradation(aia193)"
   ]
  },
  {
   "cell_type": "code",
   "execution_count": 12,
   "id": "0942c05a-9eb9-4a78-b2ae-aa8133513a72",
   "metadata": {},
   "outputs": [
    {
     "name": "stdout",
     "output_type": "stream",
     "text": [
      "4\n",
      "85\n"
     ]
    },
    {
     "ename": "KeyboardInterrupt",
     "evalue": "",
     "output_type": "error",
     "traceback": [
      "\u001b[0;31m---------------------------------------------------------------------------\u001b[0m",
      "\u001b[0;31mKeyboardInterrupt\u001b[0m                         Traceback (most recent call last)",
      "\u001b[0;32m/var/folders/tp/ymc3q9hn3qjfxm1d5k7q2gp80000gp/T/ipykernel_54814/2304935277.py\u001b[0m in \u001b[0;36m<module>\u001b[0;34m\u001b[0m\n\u001b[0;32m----> 1\u001b[0;31m \u001b[0mbottom_left\u001b[0m\u001b[0;34m,\u001b[0m \u001b[0mcentroid_outer\u001b[0m\u001b[0;34m,\u001b[0m \u001b[0mcentroid_inner\u001b[0m\u001b[0;34m,\u001b[0m \u001b[0mCHB\u001b[0m\u001b[0;34m,\u001b[0m \u001b[0mCHB_out\u001b[0m\u001b[0;34m,\u001b[0m \u001b[0mCHB_in\u001b[0m\u001b[0;34m,\u001b[0m \u001b[0mlabels_outer\u001b[0m\u001b[0;34m,\u001b[0m \u001b[0mlabels_inner\u001b[0m\u001b[0;34m,\u001b[0m \u001b[0msubmap_outer_run\u001b[0m\u001b[0;34m,\u001b[0m \u001b[0msubmap_inner_run\u001b[0m\u001b[0;34m,\u001b[0m \u001b[0mCHouterpixel\u001b[0m\u001b[0;34m,\u001b[0m \u001b[0mCHinnerpixel\u001b[0m \u001b[0;34m=\u001b[0m \u001b[0mCHB_process_firstimage\u001b[0m\u001b[0;34m(\u001b[0m\u001b[0maia193_corr\u001b[0m\u001b[0;34m)\u001b[0m\u001b[0;34m\u001b[0m\u001b[0;34m\u001b[0m\u001b[0m\n\u001b[0m",
      "\u001b[0;32m/var/folders/tp/ymc3q9hn3qjfxm1d5k7q2gp80000gp/T/ipykernel_54814/558111503.py\u001b[0m in \u001b[0;36mCHB_process_firstimage\u001b[0;34m(aiamap)\u001b[0m\n\u001b[1;32m     21\u001b[0m     \u001b[0mCH1_annulus_outer\u001b[0m\u001b[0;34m,\u001b[0m \u001b[0mCH1_annulus_outer_pixel\u001b[0m \u001b[0;34m=\u001b[0m \u001b[0mmask_annulus\u001b[0m\u001b[0;34m(\u001b[0m\u001b[0msubaia1\u001b[0m\u001b[0;34m,\u001b[0m \u001b[0mlabels1_out\u001b[0m\u001b[0;34m,\u001b[0m \u001b[0mlabels1\u001b[0m\u001b[0;34m)\u001b[0m\u001b[0;31m#CHB outer map and pixel\u001b[0m\u001b[0;34m\u001b[0m\u001b[0;34m\u001b[0m\u001b[0m\n\u001b[1;32m     22\u001b[0m     \u001b[0;31m#Segmenting Annulus Subarea and Sorted\u001b[0m\u001b[0;34m\u001b[0m\u001b[0;34m\u001b[0m\u001b[0;34m\u001b[0m\u001b[0m\n\u001b[0;32m---> 23\u001b[0;31m     \u001b[0mCH_outer_sort\u001b[0m\u001b[0;34m,\u001b[0m \u001b[0mcentroid2\u001b[0m\u001b[0;34m,\u001b[0m \u001b[0mlabels2\u001b[0m \u001b[0;34m=\u001b[0m \u001b[0msegment_annulus_ultimate\u001b[0m\u001b[0;34m(\u001b[0m\u001b[0mCH1_annulus_outer_pixel\u001b[0m\u001b[0;34m,\u001b[0m \u001b[0;36m60\u001b[0m\u001b[0;34m)\u001b[0m\u001b[0;34m\u001b[0m\u001b[0;34m\u001b[0m\u001b[0m\n\u001b[0m\u001b[1;32m     24\u001b[0m     \u001b[0mCH_inner_sort\u001b[0m\u001b[0;34m,\u001b[0m \u001b[0mcentroid3\u001b[0m\u001b[0;34m,\u001b[0m \u001b[0mlabels3\u001b[0m \u001b[0;34m=\u001b[0m \u001b[0msegment_annulus_ultimate\u001b[0m\u001b[0;34m(\u001b[0m\u001b[0mCH1_annulus_inner_pixel\u001b[0m\u001b[0;34m,\u001b[0m \u001b[0;36m60\u001b[0m\u001b[0;34m)\u001b[0m\u001b[0;34m\u001b[0m\u001b[0;34m\u001b[0m\u001b[0m\n\u001b[1;32m     25\u001b[0m \u001b[0;34m\u001b[0m\u001b[0m\n",
      "\u001b[0;32m/var/folders/tp/ymc3q9hn3qjfxm1d5k7q2gp80000gp/T/ipykernel_54814/2415026201.py\u001b[0m in \u001b[0;36msegment_annulus_ultimate\u001b[0;34m(CH_annulus_pixel_array, num_totarea)\u001b[0m\n\u001b[1;32m    160\u001b[0m     \u001b[0mcentroids_sub1_sorttest\u001b[0m \u001b[0;34m=\u001b[0m \u001b[0msort_centroid_frommax\u001b[0m\u001b[0;34m(\u001b[0m\u001b[0mcentroids_sub1\u001b[0m\u001b[0;34m)\u001b[0m\u001b[0;34m\u001b[0m\u001b[0;34m\u001b[0m\u001b[0m\n\u001b[1;32m    161\u001b[0m     \u001b[0mlabels_section_sub1_sorted\u001b[0m \u001b[0;34m=\u001b[0m \u001b[0msortlabel\u001b[0m\u001b[0;34m(\u001b[0m\u001b[0mlabels_section_sub1\u001b[0m\u001b[0;34m,\u001b[0m\u001b[0mcentroids_sub1_sorttest\u001b[0m\u001b[0;34m,\u001b[0m\u001b[0mnum_subarea\u001b[0m\u001b[0;34m)\u001b[0m\u001b[0;34m\u001b[0m\u001b[0;34m\u001b[0m\u001b[0m\n\u001b[0;32m--> 162\u001b[0;31m     \u001b[0mcentroids_sub2\u001b[0m\u001b[0;34m,\u001b[0m \u001b[0mlabels_section_sub2\u001b[0m \u001b[0;34m=\u001b[0m \u001b[0mkmeanscluster\u001b[0m\u001b[0;34m(\u001b[0m\u001b[0mCH_annulus_pixel_array_sub2\u001b[0m\u001b[0;34m,\u001b[0m \u001b[0mnum_subarea\u001b[0m\u001b[0;34m)\u001b[0m\u001b[0;34m\u001b[0m\u001b[0;34m\u001b[0m\u001b[0m\n\u001b[0m\u001b[1;32m    163\u001b[0m     \u001b[0mref2\u001b[0m \u001b[0;34m=\u001b[0m \u001b[0mcentroids_sub2\u001b[0m\u001b[0;34m[\u001b[0m\u001b[0mclosest_node_index\u001b[0m\u001b[0;34m(\u001b[0m\u001b[0mcentroids_sub1_sorttest\u001b[0m\u001b[0;34m[\u001b[0m\u001b[0;34m-\u001b[0m\u001b[0;36m1\u001b[0m\u001b[0;34m]\u001b[0m\u001b[0;34m,\u001b[0m\u001b[0mcentroids_sub2\u001b[0m\u001b[0;34m)\u001b[0m\u001b[0;34m]\u001b[0m\u001b[0;34m\u001b[0m\u001b[0;34m\u001b[0m\u001b[0m\n\u001b[1;32m    164\u001b[0m     \u001b[0mcentroids_sub2_sorttest\u001b[0m \u001b[0;34m=\u001b[0m \u001b[0msort_centroid_fromref\u001b[0m\u001b[0;34m(\u001b[0m\u001b[0mcentroids_sub2\u001b[0m\u001b[0;34m,\u001b[0m \u001b[0mref2\u001b[0m\u001b[0;34m)\u001b[0m\u001b[0;34m\u001b[0m\u001b[0;34m\u001b[0m\u001b[0m\n",
      "\u001b[0;32m/var/folders/tp/ymc3q9hn3qjfxm1d5k7q2gp80000gp/T/ipykernel_54814/2415026201.py\u001b[0m in \u001b[0;36mkmeanscluster\u001b[0;34m(pixelarray, num_segment)\u001b[0m\n\u001b[1;32m     65\u001b[0m \u001b[0;32mdef\u001b[0m \u001b[0mkmeanscluster\u001b[0m \u001b[0;34m(\u001b[0m\u001b[0mpixelarray\u001b[0m\u001b[0;34m,\u001b[0m \u001b[0mnum_segment\u001b[0m\u001b[0;34m)\u001b[0m\u001b[0;34m:\u001b[0m\u001b[0;34m\u001b[0m\u001b[0;34m\u001b[0m\u001b[0m\n\u001b[1;32m     66\u001b[0m     \u001b[0mrng\u001b[0m \u001b[0;34m=\u001b[0m \u001b[0mnp\u001b[0m\u001b[0;34m.\u001b[0m\u001b[0mrandom\u001b[0m\u001b[0;34m.\u001b[0m\u001b[0mRandomState\u001b[0m\u001b[0;34m(\u001b[0m\u001b[0;36m0\u001b[0m\u001b[0;34m)\u001b[0m\u001b[0;34m\u001b[0m\u001b[0;34m\u001b[0m\u001b[0m\n\u001b[0;32m---> 67\u001b[0;31m     \u001b[0mkmeans\u001b[0m \u001b[0;34m=\u001b[0m \u001b[0mKMeans\u001b[0m\u001b[0;34m(\u001b[0m\u001b[0mn_clusters\u001b[0m\u001b[0;34m=\u001b[0m\u001b[0mnum_segment\u001b[0m\u001b[0;34m,\u001b[0m \u001b[0mtol\u001b[0m \u001b[0;34m=\u001b[0m \u001b[0;36m1e-5\u001b[0m\u001b[0;34m,\u001b[0m \u001b[0mrandom_state\u001b[0m \u001b[0;34m=\u001b[0m \u001b[0mrng\u001b[0m\u001b[0;34m)\u001b[0m\u001b[0;34m.\u001b[0m\u001b[0mfit\u001b[0m\u001b[0;34m(\u001b[0m\u001b[0mpixelarray\u001b[0m\u001b[0;34m)\u001b[0m\u001b[0;34m\u001b[0m\u001b[0;34m\u001b[0m\u001b[0m\n\u001b[0m\u001b[1;32m     68\u001b[0m     \u001b[0mcentroids\u001b[0m \u001b[0;34m=\u001b[0m \u001b[0mkmeans\u001b[0m\u001b[0;34m.\u001b[0m\u001b[0mcluster_centers_\u001b[0m\u001b[0;34m\u001b[0m\u001b[0;34m\u001b[0m\u001b[0m\n\u001b[1;32m     69\u001b[0m     \u001b[0mlabels_section\u001b[0m \u001b[0;34m=\u001b[0m \u001b[0mkmeans\u001b[0m\u001b[0;34m.\u001b[0m\u001b[0mlabels_\u001b[0m\u001b[0;34m\u001b[0m\u001b[0;34m\u001b[0m\u001b[0m\n",
      "\u001b[0;32m~/opt/anaconda3/envs/myenv/lib/python3.8/site-packages/sklearn/cluster/_kmeans.py\u001b[0m in \u001b[0;36mfit\u001b[0;34m(self, X, y, sample_weight)\u001b[0m\n\u001b[1;32m   1187\u001b[0m \u001b[0;34m\u001b[0m\u001b[0m\n\u001b[1;32m   1188\u001b[0m             \u001b[0;31m# run a k-means once\u001b[0m\u001b[0;34m\u001b[0m\u001b[0;34m\u001b[0m\u001b[0;34m\u001b[0m\u001b[0m\n\u001b[0;32m-> 1189\u001b[0;31m             labels, inertia, centers, n_iter_ = kmeans_single(\n\u001b[0m\u001b[1;32m   1190\u001b[0m                 \u001b[0mX\u001b[0m\u001b[0;34m,\u001b[0m\u001b[0;34m\u001b[0m\u001b[0;34m\u001b[0m\u001b[0m\n\u001b[1;32m   1191\u001b[0m                 \u001b[0msample_weight\u001b[0m\u001b[0;34m,\u001b[0m\u001b[0;34m\u001b[0m\u001b[0;34m\u001b[0m\u001b[0m\n",
      "\u001b[0;32m~/opt/anaconda3/envs/myenv/lib/python3.8/site-packages/sklearn/cluster/_kmeans.py\u001b[0m in \u001b[0;36m_kmeans_single_elkan\u001b[0;34m(X, sample_weight, centers_init, max_iter, verbose, x_squared_norms, tol, n_threads)\u001b[0m\n\u001b[1;32m    475\u001b[0m \u001b[0;34m\u001b[0m\u001b[0m\n\u001b[1;32m    476\u001b[0m     \u001b[0;32mfor\u001b[0m \u001b[0mi\u001b[0m \u001b[0;32min\u001b[0m \u001b[0mrange\u001b[0m\u001b[0;34m(\u001b[0m\u001b[0mmax_iter\u001b[0m\u001b[0;34m)\u001b[0m\u001b[0;34m:\u001b[0m\u001b[0;34m\u001b[0m\u001b[0;34m\u001b[0m\u001b[0m\n\u001b[0;32m--> 477\u001b[0;31m         elkan_iter(\n\u001b[0m\u001b[1;32m    478\u001b[0m             \u001b[0mX\u001b[0m\u001b[0;34m,\u001b[0m\u001b[0;34m\u001b[0m\u001b[0;34m\u001b[0m\u001b[0m\n\u001b[1;32m    479\u001b[0m             \u001b[0msample_weight\u001b[0m\u001b[0;34m,\u001b[0m\u001b[0;34m\u001b[0m\u001b[0;34m\u001b[0m\u001b[0m\n",
      "\u001b[0;31mKeyboardInterrupt\u001b[0m: "
     ]
    }
   ],
   "source": [
    "bottom_left, centroid_outer, centroid_inner, CHB, CHB_out, CHB_in, labels_outer, labels_inner, submap_outer_run, submap_inner_run, CHouterpixel, CHinnerpixel = CHB_process_firstimage(aia193_corr)"
   ]
  },
  {
   "cell_type": "code",
   "execution_count": 14,
   "id": "1d83edcc-2177-44c1-9f26-2414f184a405",
   "metadata": {},
   "outputs": [
    {
     "name": "stdout",
     "output_type": "stream",
     "text": [
      "Processing image, time = 2018-10-31T00:00:11\n",
      "Loading previously prepped images\n",
      "Loading previously calculated DEM\n"
     ]
    }
   ],
   "source": [
    "# Begin image processing\n",
    "for img in range(0, len(flist[index])):\n",
    "\n",
    "    print('Processing image, time = '+dt.datetime.strftime(time_array[index][img], \"%Y-%m-%dT%H:%M:%S\"))\n",
    "\n",
    "    # Get and process images.\n",
    "    err_arr_tit = output_dir+'error_data_'+dt.datetime.strftime(time_array[index][img], \"%Y%m%d_%H%M%S\")+'.asdf'\n",
    "    map_arr_tit = output_dir+'prepped_data_'+dt.datetime.strftime(time_array[index][img], \"%Y%m%d_%H%M%S\")+'_{index:03}.fits'\n",
    "    files = os.path.exists(err_arr_tit)\n",
    "    if files == False:\n",
    "        map_array, err_array = prep_images(time_array,index,img,f_0094,f_0131,f_0171,\n",
    "                                               f_0193,f_0211,f_0335)\n",
    "        map_array.save(map_arr_tit,overwrite='True')\n",
    "        tree = {'err_array':err_array}\n",
    "        with asdf.AsdfFile(tree) as asdf_file:\n",
    "                asdf_file.write_to(err_arr_tit)\n",
    "    else:\n",
    "        print('Loading previously prepped images')\n",
    "        arrs = asdf.open(err_arr_tit)\n",
    "        err_array = arrs['err_array']\n",
    "        ffin=sorted(glob.glob(output_dir+'prepped_data_'+dt.datetime.strftime(time_array[index][img], \"%Y%m%d_%H%M%S\")+'*.fits'))\n",
    "        map_array=sunpy.map.Map(ffin)\n",
    "    # Calculate DEMs\n",
    "    dem_arr_tit = output_dir+'dem_data_'+dt.datetime.strftime(time_array[index][img], \"%Y%m%d_%H%M%S\")+'.asdf'\n",
    "    files = os.path.exists(dem_arr_tit)\n",
    "    if files == False:\n",
    "        print('Calculating DEM')\n",
    "        dem,edem,elogt,chisq,dn_reg,mlogt,logtemps = calculate_dem(map_array,err_array)\n",
    "        tree = {'dem':dem, 'edem':edem, 'mlogt':mlogt, 'elogt':elogt, 'chisq':chisq, 'logtemps':logtemps}\n",
    "        with asdf.AsdfFile(tree) as asdf_file:  \n",
    "            asdf_file.write_to(dem_arr_tit)\n",
    "    else:\n",
    "        print('Loading previously calculated DEM')\n",
    "        arrs = asdf.open(dem_arr_tit)  \n",
    "        dem = arrs['dem']\n",
    "        edem = arrs['edem']\n",
    "        mlogt = arrs['mlogt']\n",
    "        elogt = arrs['elogt']\n",
    "        chisq = arrs['chisq']\n",
    "        logtemps = arrs['logtemps']\n",
    "        CHB_all = np.load('/Users/nawinngampoopun/Desktop/SampleDEM/results/CHB_all.npz')\n",
    "        CHB = CHB_all['CHB']\n",
    "        CHB_in = CHB_all['CHB_in']\n",
    "        CHB_out = CHB_all['CHB_out']\n",
    "        \n",
    "    # Plot results for center pix\n",
    "    img_tit = output_dir+'Centre_pixel_DEM_'+dt.datetime.strftime(time_array[index][img], \"%Y%m%d_%H%M%S\")+'.png'\n",
    "    plot_pix = plot_dem(dem,edem,mlogt,elogt,img_tit)\n",
    "    \n",
    "    # Get a submap to have the scales and image properties.\n",
    "    submap = get_submap(time_array,index,img,f_0171)\n",
    "    \n",
    "    #Plot map of plasma prop\n",
    "    img_arr_tit = output_dir+'DEM_images_'+dt.datetime.strftime(time_array[index][img], \"%Y%m%d_%H%M%S\")+'.png'\n",
    "    plot_demmap = plot_dem_images(submap,dem,logtemps,img_arr_tit,CHB, CHB_in, CHB_out)\n",
    "    img_EM_tit = output_dir+'EM_images_'+dt.datetime.strftime(time_array[index][img], \"%Y%m%d_%H%M%S\")+'.png'\n",
    "    EM_total = plot_em_images_calc(submap,dem,logtemps,img_EM_tit,CHB, CHB_in, CHB_out)\n",
    "    img_temp_tit = output_dir+'Temp_map_'+dt.datetime.strftime(time_array[index][img], \"%Y%m%d_%H%M%S\")+'.png'\n",
    "    Tempmap = plot_temp_images(submap,dem,EM_total,logtemps,img_temp_tit,CHB, CHB_in, CHB_out)\n",
    "    img_dens_tit = output_dir+'Dens_map_'+dt.datetime.strftime(time_array[index][img], \"%Y%m%d_%H%M%S\")+'.png'\n",
    "    Densmap = plot_dens_images(submap, EM_total, img_dens_tit,CHB, CHB_in, CHB_out)\n",
    "    \n",
    "     #Get values from subregion\n",
    "    landf_pix = np.load('/Users/nawinngampoopun/Desktop/SampleDEM/results/leadandfollow_pix.npz')\n",
    "    pixel_lead_outer = landf_pix['pixel_lead_outer']\n",
    "    pixel_lead_inner = landf_pix['pixel_lead_inner']\n",
    "    pixel_fol_outer = landf_pix['pixel_fol_outer']\n",
    "    pixel_fol_inner = landf_pix['pixel_fol_inner']\n",
    "    labelsaia_lead_outer = pixeltransform_AIA(pixel_lead_outer[0], pixel_lead_outer[1], submap.wcs,submap)\n",
    "    labelsaia_lead_inner = pixeltransform_AIA(pixel_lead_inner[0], pixel_lead_inner[1], submap.wcs,submap)\n",
    "    labelsaia_fol_outer = pixeltransform_AIA(pixel_fol_outer[0], pixel_fol_outer[1], submap.wcs,submap)\n",
    "    labelsaia_fol_inner = pixeltransform_AIA(pixel_fol_inner[0], pixel_fol_inner[1], submap.wcs,submap)\n",
    "    meanEM_lead_outer = Selectprop_DEM(EM_total, labelsaia_lead_outer)\n",
    "    meanEM_lead_inner = Selectprop_DEM(EM_total, labelsaia_lead_inner)\n",
    "    meanEM_fol_outer = Selectprop_DEM(EM_total, labelsaia_fol_outer)\n",
    "    meanEM_fol_inner = Selectprop_DEM(EM_total, labelsaia_fol_inner)\n",
    "    meanT_lead_outer = Selectprop_DEM(Tempmap, labelsaia_lead_outer)\n",
    "    meanT_lead_inner = Selectprop_DEM(Tempmap, labelsaia_lead_inner)\n",
    "    meanT_fol_outer = Selectprop_DEM(Tempmap, labelsaia_fol_outer)\n",
    "    meanT_fol_inner = Selectprop_DEM(Tempmap, labelsaia_fol_inner)\n",
    "    meanDens_lead_outer = Selectprop_DEM(Densmap, labelsaia_lead_outer)\n",
    "    meanDens_lead_inner = Selectprop_DEM(Densmap, labelsaia_lead_inner)\n",
    "    meanDens_fol_outer = Selectprop_DEM(Densmap, labelsaia_fol_outer)\n",
    "    meanDens_fol_inner = Selectprop_DEM(Densmap, labelsaia_fol_inner)\n",
    "   \n",
    "    \n"
   ]
  },
  {
   "cell_type": "code",
   "execution_count": 16,
   "id": "c2587ff3-a3cc-4738-8531-0ec2e0cbaa5d",
   "metadata": {},
   "outputs": [
    {
     "data": {
      "text/plain": [
       "<matplotlib.contour.QuadContourSet at 0x7f82c3e85b20>"
      ]
     },
     "execution_count": 16,
     "metadata": {},
     "output_type": "execute_result"
    },
    {
     "data": {
      "image/png": "[encoded data removed]",
      "text/plain": [
       "<Figure size 432x288 with 1 Axes>"
      ]
     },
     "metadata": {
      "needs_background": "light"
     },
     "output_type": "display_data"
    }
   ],
   "source": [
    "plt.imshow(Tempmap, origin='lower')\n",
    "plt.contour(CHB)\n",
    "plt.contour(labelsaia_lead_outer)"
   ]
  },
  {
   "cell_type": "code",
   "execution_count": 18,
   "id": "b55e828a-5851-45e2-9072-4b1c218ea341",
   "metadata": {},
   "outputs": [
    {
     "data": {
      "text/plain": [
       "701607.8876840469"
      ]
     },
     "execution_count": 18,
     "metadata": {},
     "output_type": "execute_result"
    }
   ],
   "source": []
  },
  {
   "cell_type": "code",
   "execution_count": 61,
   "id": "db2157d4-93ee-49a7-841e-b28361c6c5ec",
   "metadata": {},
   "outputs": [
    {
     "data": {
      "text/plain": [
       "array([0, 0, 0, ..., 0, 0, 0])"
      ]
     },
     "execution_count": 61,
     "metadata": {},
     "output_type": "execute_result"
    }
   ],
   "source": [
    "CHB_in"
   ]
  },
  {
   "cell_type": "code",
   "execution_count": 64,
   "id": "cde2bd4a-767d-4003-92fd-7030586a304c",
   "metadata": {},
   "outputs": [
    {
     "data": {
      "text/plain": [
       "(2001, 1334)"
      ]
     },
     "execution_count": 64,
     "metadata": {},
     "output_type": "execute_result"
    }
   ],
   "source": [
    "submap.data.shape"
   ]
  },
  {
   "cell_type": "code",
   "execution_count": 65,
   "id": "0ad967a8-5700-4648-9062-2bf46d9274e9",
   "metadata": {},
   "outputs": [
    {
     "data": {
      "text/plain": [
       "array([5.3 , 5.35, 5.4 , 5.45, 5.5 , 5.55, 5.6 , 5.65, 5.7 , 5.75, 5.8 ,\n",
       "       5.85, 5.9 , 5.95, 6.  , 6.05, 6.1 , 6.15, 6.2 , 6.25, 6.3 , 6.35,\n",
       "       6.4 , 6.45, 6.5 ])"
      ]
     },
     "execution_count": 65,
     "metadata": {},
     "output_type": "execute_result"
    }
   ],
   "source": [
    "logtemps"
   ]
  },
  {
   "cell_type": "code",
   "execution_count": 66,
   "id": "67fe37fb-0cab-4a20-a0df-f203e116db1d",
   "metadata": {},
   "outputs": [],
   "source": [
    "temps = 10**(logtemps)"
   ]
  },
  {
   "cell_type": "code",
   "execution_count": 67,
   "id": "93697862-3e96-46f5-a1a0-be4e52ac1296",
   "metadata": {},
   "outputs": [
    {
     "data": {
      "text/plain": [
       "array([ 199526.23149689,  223872.11385683,  251188.64315096,\n",
       "        281838.29312645,  316227.76601684,  354813.38923358,\n",
       "        398107.1705535 ,  446683.59215096,  501187.23362727,\n",
       "        562341.32519035,  630957.34448019,  707945.78438414,\n",
       "        794328.23472428,  891250.93813375, 1000000.        ,\n",
       "       1122018.45430196, 1258925.41179417, 1412537.54462276,\n",
       "       1584893.19246111, 1778279.41003892, 1995262.31496888,\n",
       "       2238721.13856834, 2511886.43150958, 2818382.93126445,\n",
       "       3162277.66016838])"
      ]
     },
     "execution_count": 67,
     "metadata": {},
     "output_type": "execute_result"
    }
   ],
   "source": [
    "temps"
   ]
  },
  {
   "cell_type": "code",
   "execution_count": 68,
   "id": "43bece04-3569-48f7-a549-5fd6e560fffc",
   "metadata": {},
   "outputs": [],
   "source": [
    "EM_bin = np.zeros((dem.shape[0], dem.shape[1], dem.shape[2]//2))"
   ]
  },
  {
   "cell_type": "code",
   "execution_count": 69,
   "id": "dc40ff9f-7d5c-431e-b010-8ac0ab841e8e",
   "metadata": {},
   "outputs": [],
   "source": [
    "#EM = sum DEM over T, in our case EM sum over two temperature\n",
    "for i in range (EM_bin.shape[2]):\n",
    "    EM_bin[:,:,i] = dem[:,:,i*2] + dem[:,:,i*2+1]"
   ]
  },
  {
   "cell_type": "code",
   "execution_count": 70,
   "id": "63ad1b0d-0c22-4170-972b-2554431ca974",
   "metadata": {},
   "outputs": [],
   "source": [
    "EM_total = np.sum(dem,axis=2)"
   ]
  },
  {
   "cell_type": "code",
   "execution_count": 71,
   "id": "9b27c6e8-171a-431f-88f4-4450f53389ea",
   "metadata": {},
   "outputs": [
    {
     "data": {
      "text/plain": [
       "(2001, 1334)"
      ]
     },
     "execution_count": 71,
     "metadata": {},
     "output_type": "execute_result"
    }
   ],
   "source": [
    "EM_total.shape"
   ]
  },
  {
   "cell_type": "code",
   "execution_count": 72,
   "id": "916551c2-f32d-45fb-9e16-e69888aeda81",
   "metadata": {},
   "outputs": [],
   "source": [
    "#Emission Weighted temperature\n",
    "upfrac = np.zeros((EM_total.shape))\n",
    "for j in range (dem.shape[2]):\n",
    "    upfrac_plus = dem[:,:,j]*temps[j]\n",
    "    upfrac = upfrac+upfrac_plus\n",
    "    \n",
    "T_weighted = upfrac/EM_total\n",
    "    "
   ]
  },
  {
   "cell_type": "code",
   "execution_count": 73,
   "id": "59333631-b9da-422e-94bd-c7614692cfa2",
   "metadata": {},
   "outputs": [
    {
     "data": {
      "text/plain": [
       "array([[1.44604920e+24, 1.56835016e+18, 1.44969123e+23, ...,\n",
       "        4.75081605e+21, 0.00000000e+00, 0.00000000e+00],\n",
       "       [1.52523738e+17, 4.02183395e+17, 2.53898856e+17, ...,\n",
       "        7.11408936e+18, 3.25980467e+17, 0.00000000e+00],\n",
       "       [8.62918385e+17, 1.91775407e+18, 0.00000000e+00, ...,\n",
       "        4.96259627e+22, 1.22635604e+18, 2.38748341e+18],\n",
       "       ...,\n",
       "       [1.79349599e+23, 6.24427546e+18, 4.54236795e+18, ...,\n",
       "        1.72933129e+23, 1.31704746e+24, 0.00000000e+00],\n",
       "       [5.83828631e+24, 3.70366706e+17, 1.04330966e+22, ...,\n",
       "        1.34196418e+23, 1.12086186e+24, 2.87113392e+17],\n",
       "       [6.71871953e+23, 1.50254681e+18, 2.41698012e+22, ...,\n",
       "        5.50412411e+18, 5.15019491e+18, 8.11812233e+17]])"
      ]
     },
     "execution_count": 73,
     "metadata": {},
     "output_type": "execute_result"
    }
   ],
   "source": [
    "dem[:,:,0]*temps[0]"
   ]
  },
  {
   "cell_type": "code",
   "execution_count": null,
   "id": "dc254d32-a1da-4072-9dd4-d9d3c606eb35",
   "metadata": {},
   "outputs": [],
   "source": []
  },
  {
   "cell_type": "code",
   "execution_count": 74,
   "id": "f31f159e-d18e-4d97-a4e6-d884d7128ad5",
   "metadata": {},
   "outputs": [
    {
     "data": {
      "text/plain": [
       "array([[1263477.42694595, 1014838.64982314, 1008550.0589921 , ...,\n",
       "         971052.9466228 ,              nan,              nan],\n",
       "       [ 995570.51577068, 1014881.71609864, 1006479.98923133, ...,\n",
       "        1021618.28941138, 1107053.35079285,              nan],\n",
       "       [1018924.60003562, 1055595.99849042,              nan, ...,\n",
       "         939586.51492314,  970197.75455664, 1171090.21076755],\n",
       "       ...,\n",
       "       [ 896887.87619   ,  915810.72654682,  927218.4009542 , ...,\n",
       "         965972.2728089 , 1336994.3529116 ,              nan],\n",
       "       [1111633.75000218, 1053727.81431267, 1074895.69527724, ...,\n",
       "        1000521.3176961 , 1104228.60374517, 1047003.00495378],\n",
       "       [ 938059.14407699, 1022606.65383193, 1109260.9123442 , ...,\n",
       "         707336.0708863 , 1023037.08263298, 1079164.57269534]])"
      ]
     },
     "execution_count": 74,
     "metadata": {},
     "output_type": "execute_result"
    }
   ],
   "source": [
    "T_weighted"
   ]
  },
  {
   "cell_type": "code",
   "execution_count": 75,
   "id": "0230f0dc-39c3-4c6b-bfd1-3b2fcd265100",
   "metadata": {},
   "outputs": [],
   "source": [
    "#Median Temperature (Heinemann2021)\n",
    "medianEM = EM_total/2"
   ]
  },
  {
   "cell_type": "code",
   "execution_count": 76,
   "id": "a40b2a8f-0dcf-4fbb-9503-77a1177eee3f",
   "metadata": {},
   "outputs": [],
   "source": [
    "#Mean density\n",
    "#Scale Height = 42 Mm (Saqri 2020)\n",
    "h_saq = 42*(10**8) #cm\n",
    "#Calc Scale Height h=kT/\\mu0mHg\n",
    "#Calc mean density\n",
    "density_mean_saq = np.sqrt(EM_total/h_saq)"
   ]
  },
  {
   "cell_type": "code",
   "execution_count": 77,
   "id": "1f46aa09-4442-48ce-8db2-75dc75f62094",
   "metadata": {},
   "outputs": [
    {
     "data": {
      "text/plain": [
       "(2001, 1334)"
      ]
     },
     "execution_count": 77,
     "metadata": {},
     "output_type": "execute_result"
    }
   ],
   "source": [
    "density_mean_saq.shape"
   ]
  },
  {
   "cell_type": "code",
   "execution_count": 78,
   "id": "0d35728f-4336-4b93-a7c3-8c0fdadfefe5",
   "metadata": {},
   "outputs": [
    {
     "data": {
      "text/plain": [
       "546718.118090614"
      ]
     },
     "execution_count": 78,
     "metadata": {},
     "output_type": "execute_result"
    }
   ],
   "source": [
    "np.mean(density_mean_saq)"
   ]
  },
  {
   "cell_type": "code",
   "execution_count": 79,
   "id": "015e35f3-d758-4d32-849f-618cabee5375",
   "metadata": {},
   "outputs": [],
   "source": [
    "T_weighted_mask = np.ma.array(T_weighted, mask=np.isnan(T_weighted))"
   ]
  },
  {
   "cell_type": "code",
   "execution_count": 80,
   "id": "86d1acb8-9d5c-4212-8790-c2c3b47f8dfa",
   "metadata": {},
   "outputs": [
    {
     "data": {
      "text/plain": [
       "masked_array(\n",
       "  data=[[1263477.4269459522, 1014838.6498231352, 1008550.0589921043, ...,\n",
       "         971052.9466228021, --, --],\n",
       "        [995570.5157706827, 1014881.7160986414, 1006479.9892313255, ...,\n",
       "         1021618.2894113753, 1107053.350792845, --],\n",
       "        [1018924.6000356213, 1055595.9984904183, --, ...,\n",
       "         939586.5149231374, 970197.754556644, 1171090.2107675476],\n",
       "        ...,\n",
       "        [896887.8761899994, 915810.7265468213, 927218.4009541988, ...,\n",
       "         965972.2728088966, 1336994.3529115985, --],\n",
       "        [1111633.7500021814, 1053727.8143126732, 1074895.6952772376, ...,\n",
       "         1000521.3176961025, 1104228.6037451748, 1047003.004953776],\n",
       "        [938059.1440769861, 1022606.6538319339, 1109260.9123441954, ...,\n",
       "         707336.0708863024, 1023037.0826329825, 1079164.572695345]],\n",
       "  mask=[[False, False, False, ..., False,  True,  True],\n",
       "        [False, False, False, ..., False, False,  True],\n",
       "        [False, False,  True, ..., False, False, False],\n",
       "        ...,\n",
       "        [False, False, False, ..., False, False,  True],\n",
       "        [False, False, False, ..., False, False, False],\n",
       "        [False, False, False, ..., False, False, False]],\n",
       "  fill_value=1e+20)"
      ]
     },
     "execution_count": 80,
     "metadata": {},
     "output_type": "execute_result"
    }
   ],
   "source": [
    "T_weighted_mask"
   ]
  },
  {
   "cell_type": "code",
   "execution_count": 81,
   "id": "64ac0675-2cfe-45d0-a203-44745ed47027",
   "metadata": {},
   "outputs": [],
   "source": [
    "T_weighted_plot = np.nan_to_num(T_weighted,nan=0)"
   ]
  },
  {
   "cell_type": "code",
   "execution_count": 83,
   "id": "c2278470-39aa-4ad0-9a54-fd1e0e3001ee",
   "metadata": {},
   "outputs": [
    {
     "ename": "AttributeError",
     "evalue": "'NoneType' object has no attribute 'astype'",
     "output_type": "error",
     "traceback": [
      "\u001b[0;31m---------------------------------------------------------------------------\u001b[0m",
      "\u001b[0;31mAttributeError\u001b[0m                            Traceback (most recent call last)",
      "\u001b[0;32m/var/folders/tp/ymc3q9hn3qjfxm1d5k7q2gp80000gp/T/ipykernel_47347/1964509419.py\u001b[0m in \u001b[0;36m<module>\u001b[0;34m\u001b[0m\n\u001b[1;32m      1\u001b[0m \u001b[0mplt\u001b[0m\u001b[0;34m.\u001b[0m\u001b[0mimshow\u001b[0m\u001b[0;34m(\u001b[0m\u001b[0mT_weighted_plot\u001b[0m\u001b[0;34m,\u001b[0m \u001b[0mvmin\u001b[0m \u001b[0;34m=\u001b[0m \u001b[0mnp\u001b[0m\u001b[0;34m.\u001b[0m\u001b[0mnanmin\u001b[0m\u001b[0;34m(\u001b[0m\u001b[0mT_weighted\u001b[0m\u001b[0;34m)\u001b[0m\u001b[0;34m,\u001b[0m \u001b[0mvmax\u001b[0m \u001b[0;34m=\u001b[0m \u001b[0;36m3e6\u001b[0m\u001b[0;34m,\u001b[0m \u001b[0morigin\u001b[0m\u001b[0;34m=\u001b[0m\u001b[0;34m'lower'\u001b[0m\u001b[0;34m)\u001b[0m\u001b[0;34m\u001b[0m\u001b[0;34m\u001b[0m\u001b[0m\n\u001b[1;32m      2\u001b[0m \u001b[0mplt\u001b[0m\u001b[0;34m.\u001b[0m\u001b[0mcolorbar\u001b[0m\u001b[0;34m(\u001b[0m\u001b[0;34m)\u001b[0m\u001b[0;34m\u001b[0m\u001b[0;34m\u001b[0m\u001b[0m\n\u001b[0;32m----> 3\u001b[0;31m \u001b[0mplt\u001b[0m\u001b[0;34m.\u001b[0m\u001b[0mcontour\u001b[0m\u001b[0;34m(\u001b[0m\u001b[0mCHB\u001b[0m\u001b[0;34m)\u001b[0m\u001b[0;34m\u001b[0m\u001b[0;34m\u001b[0m\u001b[0m\n\u001b[0m",
      "\u001b[0;32m~/opt/anaconda3/envs/myenv/lib/python3.8/site-packages/matplotlib/pyplot.py\u001b[0m in \u001b[0;36mcontour\u001b[0;34m(data, *args, **kwargs)\u001b[0m\n\u001b[1;32m   2733\u001b[0m \u001b[0;34m@\u001b[0m\u001b[0m_copy_docstring_and_deprecators\u001b[0m\u001b[0;34m(\u001b[0m\u001b[0mAxes\u001b[0m\u001b[0;34m.\u001b[0m\u001b[0mcontour\u001b[0m\u001b[0;34m)\u001b[0m\u001b[0;34m\u001b[0m\u001b[0;34m\u001b[0m\u001b[0m\n\u001b[1;32m   2734\u001b[0m \u001b[0;32mdef\u001b[0m \u001b[0mcontour\u001b[0m\u001b[0;34m(\u001b[0m\u001b[0;34m*\u001b[0m\u001b[0margs\u001b[0m\u001b[0;34m,\u001b[0m \u001b[0mdata\u001b[0m\u001b[0;34m=\u001b[0m\u001b[0;32mNone\u001b[0m\u001b[0;34m,\u001b[0m \u001b[0;34m**\u001b[0m\u001b[0mkwargs\u001b[0m\u001b[0;34m)\u001b[0m\u001b[0;34m:\u001b[0m\u001b[0;34m\u001b[0m\u001b[0;34m\u001b[0m\u001b[0m\n\u001b[0;32m-> 2735\u001b[0;31m     __ret = gca().contour(\n\u001b[0m\u001b[1;32m   2736\u001b[0m         \u001b[0;34m*\u001b[0m\u001b[0margs\u001b[0m\u001b[0;34m,\u001b[0m \u001b[0;34m**\u001b[0m\u001b[0;34m(\u001b[0m\u001b[0;34m{\u001b[0m\u001b[0;34m\"data\"\u001b[0m\u001b[0;34m:\u001b[0m \u001b[0mdata\u001b[0m\u001b[0;34m}\u001b[0m \u001b[0;32mif\u001b[0m \u001b[0mdata\u001b[0m \u001b[0;32mis\u001b[0m \u001b[0;32mnot\u001b[0m \u001b[0;32mNone\u001b[0m \u001b[0;32melse\u001b[0m \u001b[0;34m{\u001b[0m\u001b[0;34m}\u001b[0m\u001b[0;34m)\u001b[0m\u001b[0;34m,\u001b[0m\u001b[0;34m\u001b[0m\u001b[0;34m\u001b[0m\u001b[0m\n\u001b[1;32m   2737\u001b[0m         **kwargs)\n",
      "\u001b[0;32m~/opt/anaconda3/envs/myenv/lib/python3.8/site-packages/matplotlib/__init__.py\u001b[0m in \u001b[0;36minner\u001b[0;34m(ax, data, *args, **kwargs)\u001b[0m\n\u001b[1;32m   1359\u001b[0m     \u001b[0;32mdef\u001b[0m \u001b[0minner\u001b[0m\u001b[0;34m(\u001b[0m\u001b[0max\u001b[0m\u001b[0;34m,\u001b[0m \u001b[0;34m*\u001b[0m\u001b[0margs\u001b[0m\u001b[0;34m,\u001b[0m \u001b[0mdata\u001b[0m\u001b[0;34m=\u001b[0m\u001b[0;32mNone\u001b[0m\u001b[0;34m,\u001b[0m \u001b[0;34m**\u001b[0m\u001b[0mkwargs\u001b[0m\u001b[0;34m)\u001b[0m\u001b[0;34m:\u001b[0m\u001b[0;34m\u001b[0m\u001b[0;34m\u001b[0m\u001b[0m\n\u001b[1;32m   1360\u001b[0m         \u001b[0;32mif\u001b[0m \u001b[0mdata\u001b[0m \u001b[0;32mis\u001b[0m \u001b[0;32mNone\u001b[0m\u001b[0;34m:\u001b[0m\u001b[0;34m\u001b[0m\u001b[0;34m\u001b[0m\u001b[0m\n\u001b[0;32m-> 1361\u001b[0;31m             \u001b[0;32mreturn\u001b[0m \u001b[0mfunc\u001b[0m\u001b[0;34m(\u001b[0m\u001b[0max\u001b[0m\u001b[0;34m,\u001b[0m \u001b[0;34m*\u001b[0m\u001b[0mmap\u001b[0m\u001b[0;34m(\u001b[0m\u001b[0msanitize_sequence\u001b[0m\u001b[0;34m,\u001b[0m \u001b[0margs\u001b[0m\u001b[0;34m)\u001b[0m\u001b[0;34m,\u001b[0m \u001b[0;34m**\u001b[0m\u001b[0mkwargs\u001b[0m\u001b[0;34m)\u001b[0m\u001b[0;34m\u001b[0m\u001b[0;34m\u001b[0m\u001b[0m\n\u001b[0m\u001b[1;32m   1362\u001b[0m \u001b[0;34m\u001b[0m\u001b[0m\n\u001b[1;32m   1363\u001b[0m         \u001b[0mbound\u001b[0m \u001b[0;34m=\u001b[0m \u001b[0mnew_sig\u001b[0m\u001b[0;34m.\u001b[0m\u001b[0mbind\u001b[0m\u001b[0;34m(\u001b[0m\u001b[0max\u001b[0m\u001b[0;34m,\u001b[0m \u001b[0;34m*\u001b[0m\u001b[0margs\u001b[0m\u001b[0;34m,\u001b[0m \u001b[0;34m**\u001b[0m\u001b[0mkwargs\u001b[0m\u001b[0;34m)\u001b[0m\u001b[0;34m\u001b[0m\u001b[0;34m\u001b[0m\u001b[0m\n",
      "\u001b[0;32m~/opt/anaconda3/envs/myenv/lib/python3.8/site-packages/matplotlib/axes/_axes.py\u001b[0m in \u001b[0;36mcontour\u001b[0;34m(self, *args, **kwargs)\u001b[0m\n\u001b[1;32m   6418\u001b[0m     \u001b[0;32mdef\u001b[0m \u001b[0mcontour\u001b[0m\u001b[0;34m(\u001b[0m\u001b[0mself\u001b[0m\u001b[0;34m,\u001b[0m \u001b[0;34m*\u001b[0m\u001b[0margs\u001b[0m\u001b[0;34m,\u001b[0m \u001b[0;34m**\u001b[0m\u001b[0mkwargs\u001b[0m\u001b[0;34m)\u001b[0m\u001b[0;34m:\u001b[0m\u001b[0;34m\u001b[0m\u001b[0;34m\u001b[0m\u001b[0m\n\u001b[1;32m   6419\u001b[0m         \u001b[0mkwargs\u001b[0m\u001b[0;34m[\u001b[0m\u001b[0;34m'filled'\u001b[0m\u001b[0;34m]\u001b[0m \u001b[0;34m=\u001b[0m \u001b[0;32mFalse\u001b[0m\u001b[0;34m\u001b[0m\u001b[0;34m\u001b[0m\u001b[0m\n\u001b[0;32m-> 6420\u001b[0;31m         \u001b[0mcontours\u001b[0m \u001b[0;34m=\u001b[0m \u001b[0mmcontour\u001b[0m\u001b[0;34m.\u001b[0m\u001b[0mQuadContourSet\u001b[0m\u001b[0;34m(\u001b[0m\u001b[0mself\u001b[0m\u001b[0;34m,\u001b[0m \u001b[0;34m*\u001b[0m\u001b[0margs\u001b[0m\u001b[0;34m,\u001b[0m \u001b[0;34m**\u001b[0m\u001b[0mkwargs\u001b[0m\u001b[0;34m)\u001b[0m\u001b[0;34m\u001b[0m\u001b[0;34m\u001b[0m\u001b[0m\n\u001b[0m\u001b[1;32m   6421\u001b[0m         \u001b[0mself\u001b[0m\u001b[0;34m.\u001b[0m\u001b[0m_request_autoscale_view\u001b[0m\u001b[0;34m(\u001b[0m\u001b[0;34m)\u001b[0m\u001b[0;34m\u001b[0m\u001b[0;34m\u001b[0m\u001b[0m\n\u001b[1;32m   6422\u001b[0m         \u001b[0;32mreturn\u001b[0m \u001b[0mcontours\u001b[0m\u001b[0;34m\u001b[0m\u001b[0;34m\u001b[0m\u001b[0m\n",
      "\u001b[0;32m~/opt/anaconda3/envs/myenv/lib/python3.8/site-packages/matplotlib/contour.py\u001b[0m in \u001b[0;36m__init__\u001b[0;34m(self, ax, levels, filled, linewidths, linestyles, hatches, alpha, origin, extent, cmap, colors, norm, vmin, vmax, extend, antialiased, nchunk, locator, transform, *args, **kwargs)\u001b[0m\n\u001b[1;32m    775\u001b[0m         \u001b[0mself\u001b[0m\u001b[0;34m.\u001b[0m\u001b[0m_transform\u001b[0m \u001b[0;34m=\u001b[0m \u001b[0mtransform\u001b[0m\u001b[0;34m\u001b[0m\u001b[0;34m\u001b[0m\u001b[0m\n\u001b[1;32m    776\u001b[0m \u001b[0;34m\u001b[0m\u001b[0m\n\u001b[0;32m--> 777\u001b[0;31m         \u001b[0mkwargs\u001b[0m \u001b[0;34m=\u001b[0m \u001b[0mself\u001b[0m\u001b[0;34m.\u001b[0m\u001b[0m_process_args\u001b[0m\u001b[0;34m(\u001b[0m\u001b[0;34m*\u001b[0m\u001b[0margs\u001b[0m\u001b[0;34m,\u001b[0m \u001b[0;34m**\u001b[0m\u001b[0mkwargs\u001b[0m\u001b[0;34m)\u001b[0m\u001b[0;34m\u001b[0m\u001b[0;34m\u001b[0m\u001b[0m\n\u001b[0m\u001b[1;32m    778\u001b[0m         \u001b[0mself\u001b[0m\u001b[0;34m.\u001b[0m\u001b[0m_process_levels\u001b[0m\u001b[0;34m(\u001b[0m\u001b[0;34m)\u001b[0m\u001b[0;34m\u001b[0m\u001b[0;34m\u001b[0m\u001b[0m\n\u001b[1;32m    779\u001b[0m \u001b[0;34m\u001b[0m\u001b[0m\n",
      "\u001b[0;32m~/opt/anaconda3/envs/myenv/lib/python3.8/site-packages/matplotlib/contour.py\u001b[0m in \u001b[0;36m_process_args\u001b[0;34m(self, corner_mask, *args, **kwargs)\u001b[0m\n\u001b[1;32m   1364\u001b[0m             \u001b[0mself\u001b[0m\u001b[0;34m.\u001b[0m\u001b[0m_corner_mask\u001b[0m \u001b[0;34m=\u001b[0m \u001b[0mcorner_mask\u001b[0m\u001b[0;34m\u001b[0m\u001b[0;34m\u001b[0m\u001b[0m\n\u001b[1;32m   1365\u001b[0m \u001b[0;34m\u001b[0m\u001b[0m\n\u001b[0;32m-> 1366\u001b[0;31m             \u001b[0mx\u001b[0m\u001b[0;34m,\u001b[0m \u001b[0my\u001b[0m\u001b[0;34m,\u001b[0m \u001b[0mz\u001b[0m \u001b[0;34m=\u001b[0m \u001b[0mself\u001b[0m\u001b[0;34m.\u001b[0m\u001b[0m_contour_args\u001b[0m\u001b[0;34m(\u001b[0m\u001b[0margs\u001b[0m\u001b[0;34m,\u001b[0m \u001b[0mkwargs\u001b[0m\u001b[0;34m)\u001b[0m\u001b[0;34m\u001b[0m\u001b[0;34m\u001b[0m\u001b[0m\n\u001b[0m\u001b[1;32m   1367\u001b[0m \u001b[0;34m\u001b[0m\u001b[0m\n\u001b[1;32m   1368\u001b[0m             \u001b[0m_mask\u001b[0m \u001b[0;34m=\u001b[0m \u001b[0mma\u001b[0m\u001b[0;34m.\u001b[0m\u001b[0mgetmask\u001b[0m\u001b[0;34m(\u001b[0m\u001b[0mz\u001b[0m\u001b[0;34m)\u001b[0m\u001b[0;34m\u001b[0m\u001b[0;34m\u001b[0m\u001b[0m\n",
      "\u001b[0;32m~/opt/anaconda3/envs/myenv/lib/python3.8/site-packages/matplotlib/contour.py\u001b[0m in \u001b[0;36m_contour_args\u001b[0;34m(self, args, kwargs)\u001b[0m\n\u001b[1;32m   1427\u001b[0m             raise TypeError(\"Too many arguments to %s; see help(%s)\" %\n\u001b[1;32m   1428\u001b[0m                             (fn, fn))\n\u001b[0;32m-> 1429\u001b[0;31m         \u001b[0mz\u001b[0m \u001b[0;34m=\u001b[0m \u001b[0mma\u001b[0m\u001b[0;34m.\u001b[0m\u001b[0mmasked_invalid\u001b[0m\u001b[0;34m(\u001b[0m\u001b[0mz\u001b[0m\u001b[0;34m,\u001b[0m \u001b[0mcopy\u001b[0m\u001b[0;34m=\u001b[0m\u001b[0;32mFalse\u001b[0m\u001b[0;34m)\u001b[0m\u001b[0;34m\u001b[0m\u001b[0;34m\u001b[0m\u001b[0m\n\u001b[0m\u001b[1;32m   1430\u001b[0m         \u001b[0mself\u001b[0m\u001b[0;34m.\u001b[0m\u001b[0mzmax\u001b[0m \u001b[0;34m=\u001b[0m \u001b[0mfloat\u001b[0m\u001b[0;34m(\u001b[0m\u001b[0mz\u001b[0m\u001b[0;34m.\u001b[0m\u001b[0mmax\u001b[0m\u001b[0;34m(\u001b[0m\u001b[0;34m)\u001b[0m\u001b[0;34m)\u001b[0m\u001b[0;34m\u001b[0m\u001b[0;34m\u001b[0m\u001b[0m\n\u001b[1;32m   1431\u001b[0m         \u001b[0mself\u001b[0m\u001b[0;34m.\u001b[0m\u001b[0mzmin\u001b[0m \u001b[0;34m=\u001b[0m \u001b[0mfloat\u001b[0m\u001b[0;34m(\u001b[0m\u001b[0mz\u001b[0m\u001b[0;34m.\u001b[0m\u001b[0mmin\u001b[0m\u001b[0;34m(\u001b[0m\u001b[0;34m)\u001b[0m\u001b[0;34m)\u001b[0m\u001b[0;34m\u001b[0m\u001b[0;34m\u001b[0m\u001b[0m\n",
      "\u001b[0;32m~/opt/anaconda3/envs/myenv/lib/python3.8/site-packages/numpy/ma/core.py\u001b[0m in \u001b[0;36mmasked_invalid\u001b[0;34m(a, copy)\u001b[0m\n\u001b[1;32m   2367\u001b[0m         \u001b[0mcls\u001b[0m \u001b[0;34m=\u001b[0m \u001b[0mtype\u001b[0m\u001b[0;34m(\u001b[0m\u001b[0ma\u001b[0m\u001b[0;34m)\u001b[0m\u001b[0;34m\u001b[0m\u001b[0;34m\u001b[0m\u001b[0m\n\u001b[1;32m   2368\u001b[0m     \u001b[0;32melse\u001b[0m\u001b[0;34m:\u001b[0m\u001b[0;34m\u001b[0m\u001b[0;34m\u001b[0m\u001b[0m\n\u001b[0;32m-> 2369\u001b[0;31m         \u001b[0mcondition\u001b[0m \u001b[0;34m=\u001b[0m \u001b[0;34m~\u001b[0m\u001b[0;34m(\u001b[0m\u001b[0mnp\u001b[0m\u001b[0;34m.\u001b[0m\u001b[0misfinite\u001b[0m\u001b[0;34m(\u001b[0m\u001b[0ma\u001b[0m\u001b[0;34m)\u001b[0m\u001b[0;34m)\u001b[0m\u001b[0;34m\u001b[0m\u001b[0;34m\u001b[0m\u001b[0m\n\u001b[0m\u001b[1;32m   2370\u001b[0m         \u001b[0mcls\u001b[0m \u001b[0;34m=\u001b[0m \u001b[0mMaskedArray\u001b[0m\u001b[0;34m\u001b[0m\u001b[0;34m\u001b[0m\u001b[0m\n\u001b[1;32m   2371\u001b[0m     \u001b[0mresult\u001b[0m \u001b[0;34m=\u001b[0m \u001b[0ma\u001b[0m\u001b[0;34m.\u001b[0m\u001b[0mview\u001b[0m\u001b[0;34m(\u001b[0m\u001b[0mcls\u001b[0m\u001b[0;34m)\u001b[0m\u001b[0;34m\u001b[0m\u001b[0;34m\u001b[0m\u001b[0m\n",
      "\u001b[0;32m~/opt/anaconda3/envs/myenv/lib/python3.8/site-packages/numpy/ma/core.py\u001b[0m in \u001b[0;36m__array_finalize__\u001b[0;34m(self, obj)\u001b[0m\n\u001b[1;32m   3040\u001b[0m                     \u001b[0morder\u001b[0m \u001b[0;34m=\u001b[0m \u001b[0;34m\"K\"\u001b[0m\u001b[0;34m\u001b[0m\u001b[0;34m\u001b[0m\u001b[0m\n\u001b[1;32m   3041\u001b[0m \u001b[0;34m\u001b[0m\u001b[0m\n\u001b[0;32m-> 3042\u001b[0;31m                 \u001b[0m_mask\u001b[0m \u001b[0;34m=\u001b[0m \u001b[0m_mask\u001b[0m\u001b[0;34m.\u001b[0m\u001b[0mastype\u001b[0m\u001b[0;34m(\u001b[0m\u001b[0m_mask_dtype\u001b[0m\u001b[0;34m,\u001b[0m \u001b[0morder\u001b[0m\u001b[0;34m)\u001b[0m\u001b[0;34m\u001b[0m\u001b[0;34m\u001b[0m\u001b[0m\n\u001b[0m\u001b[1;32m   3043\u001b[0m             \u001b[0;32melse\u001b[0m\u001b[0;34m:\u001b[0m\u001b[0;34m\u001b[0m\u001b[0;34m\u001b[0m\u001b[0m\n\u001b[1;32m   3044\u001b[0m                 \u001b[0;31m# Take a view so shape changes, etc., do not propagate back.\u001b[0m\u001b[0;34m\u001b[0m\u001b[0;34m\u001b[0m\u001b[0;34m\u001b[0m\u001b[0m\n",
      "\u001b[0;31mAttributeError\u001b[0m: 'NoneType' object has no attribute 'astype'"
     ]
    },
    {
     "data": {
      "image/png": "[encoded data removed]",
      "text/plain": [
       "<Figure size 432x288 with 2 Axes>"
      ]
     },
     "metadata": {
      "needs_background": "light"
     },
     "output_type": "display_data"
    }
   ],
   "source": [
    "plt.imshow(T_weighted_plot, vmin = np.nanmin(T_weighted), vmax = 3e6, origin='lower')\n",
    "plt.colorbar()\n",
    "plt.contour(CHB)"
   ]
  },
  {
   "cell_type": "code",
   "execution_count": 144,
   "id": "9e51ca89-520b-4798-a323-0d5cdc5bec79",
   "metadata": {},
   "outputs": [
    {
     "data": {
      "text/plain": [
       "8572931.997334301"
      ]
     },
     "execution_count": 144,
     "metadata": {},
     "output_type": "execute_result"
    }
   ],
   "source": [
    "np.nanmax(T_weighted)"
   ]
  },
  {
   "cell_type": "code",
   "execution_count": null,
   "id": "a7a8df44-117c-437e-8cd1-c6990f7a9f25",
   "metadata": {},
   "outputs": [],
   "source": []
  }
 ],
 "metadata": {
  "kernelspec": {
   "display_name": "Python 3 (ipykernel)",
   "language": "python",
   "name": "python3"
  },
  "language_info": {
   "codemirror_mode": {
    "name": "ipython",
    "version": 3
   },
   "file_extension": ".py",
   "mimetype": "text/x-python",
   "name": "python",
   "nbconvert_exporter": "python",
   "pygments_lexer": "ipython3",
   "version": "3.8.12"
  }
 },
 "nbformat": 4,
 "nbformat_minor": 5
}
