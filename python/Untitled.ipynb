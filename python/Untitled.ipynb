{
 "cells": [
  {
   "cell_type": "code",
   "execution_count": 1,
   "id": "d703bc5a-37f5-491f-924c-8601c5688315",
   "metadata": {},
   "outputs": [],
   "source": [
    "import os.path\n",
    "import platform\n",
    "import pdb\n",
    "import datetime as dt\n",
    "from aiapy.calibrate.prep import correct_degradation\n",
    "import numpy as np\n",
    "import glob\n",
    "from matplotlib import pyplot as plt\n",
    "import matplotlib.colors as colors\n",
    "import astropy.units as u\n",
    "import astropy.time as time\n",
    "from astropy.coordinates import SkyCoord\n",
    "import sunpy.map\n",
    "from sunpy.net import Fido, attrs as a\n",
    "import scipy.io as io\n",
    "from dn2dem_pos import dn2dem_pos\n",
    "import warnings\n",
    "#warnings.simplefilter('ignore')\n",
    "from aiapy.calibrate import register, update_pointing, estimate_error, normalize_exposure\n",
    "import aiapy.psf\n",
    "import asdf\n"
   ]
  },
  {
   "cell_type": "code",
   "execution_count": 40,
   "id": "7dac6a7d-b4b5-4e75-8690-275899e3468c",
   "metadata": {},
   "outputs": [],
   "source": [
    "## Function to get the list of AIA filenames\n",
    "def get_filelist(data_disk, passband):\n",
    "    files = glob.glob(data_disk+str(passband).rjust(4, \"0\")+'/'+date+'/aia*.fits')\n",
    "    files.sort()\n",
    "    files_dt = [dt.datetime.strptime(file_i.split(f'{passband}a_')[1].split('z')[0], '%Y_%m_%dt%H_%M_%S_%f') for file_i in files]\n",
    "    return files, files_dt"
   ]
  },
  {
   "cell_type": "code",
   "execution_count": 41,
   "id": "5f2484ea-35d3-4a96-a9aa-0113ee44d84a",
   "metadata": {},
   "outputs": [],
   "source": [
    "data_disk = '/Users/nawinngampoopun/Desktop/SampleDEM/data/'\n",
    "date = '2018/10/31'"
   ]
  },
  {
   "cell_type": "code",
   "execution_count": 42,
   "id": "c01e8499-e8c6-4ccd-ba09-627ef4fd270b",
   "metadata": {},
   "outputs": [],
   "source": [
    "f_0094, time_0094 = get_filelist(data_disk, 94)\n",
    "f_0131, time_0131 = get_filelist(data_disk, 131)\n",
    "f_0171, time_0171 = get_filelist(data_disk, 171)\n",
    "f_0193, time_0193 = get_filelist(data_disk, 193)\n",
    "f_0211, time_0211 = get_filelist(data_disk, 211)\n",
    "f_0335, time_0335 = get_filelist(data_disk, 335)"
   ]
  },
  {
   "cell_type": "code",
   "execution_count": 46,
   "id": "d848b0db-394c-420e-81d3-067be16057d9",
   "metadata": {},
   "outputs": [
    {
     "data": {
      "text/plain": [
       "['/Users/nawinngampoopun/Desktop/SampleDEM/data/0131/2018/10/31/aia_lev1_131a_2018_10_31t00_00_06_62z_image_lev1.fits']"
      ]
     },
     "execution_count": 46,
     "metadata": {},
     "output_type": "execute_result"
    }
   ],
   "source": []
  },
  {
   "cell_type": "code",
   "execution_count": 36,
   "id": "78497d09-0f65-45b3-b3a4-7086894139cd",
   "metadata": {},
   "outputs": [
    {
     "data": {
      "text/plain": [
       "'2018_10_31t00_00_11_12'"
      ]
     },
     "execution_count": 36,
     "metadata": {},
     "output_type": "execute_result"
    }
   ],
   "source": [
    "f_0094[0].split(f'{passband}a_')[1].split('z')[0]"
   ]
  },
  {
   "cell_type": "code",
   "execution_count": null,
   "id": "35afd44f-5ec6-4e5b-badc-f33fd919621b",
   "metadata": {},
   "outputs": [],
   "source": []
  }
 ],
 "metadata": {
  "kernelspec": {
   "display_name": "Python 3 (ipykernel)",
   "language": "python",
   "name": "python3"
  },
  "language_info": {
   "codemirror_mode": {
    "name": "ipython",
    "version": 3
   },
   "file_extension": ".py",
   "mimetype": "text/x-python",
   "name": "python",
   "nbconvert_exporter": "python",
   "pygments_lexer": "ipython3",
   "version": "3.8.12"
  }
 },
 "nbformat": 4,
 "nbformat_minor": 5
}
